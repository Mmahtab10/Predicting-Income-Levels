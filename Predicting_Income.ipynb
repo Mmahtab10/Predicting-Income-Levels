{
  "nbformat": 4,
  "nbformat_minor": 0,
  "metadata": {
    "colab": {
      "provenance": []
    },
    "kernelspec": {
      "name": "python3",
      "display_name": "Python 3"
    },
    "language_info": {
      "name": "python"
    }
  },
  "cells": [
    {
      "cell_type": "markdown",
      "source": [
        "# Predicting Income Levels from Census Data\n",
        "\n",
        "![images.jpeg](data:image/jpeg;base64,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)"
      ],
      "metadata": {
        "id": "LZxNR-AENjnq"
      }
    },
    {
      "cell_type": "markdown",
      "source": [
        "## Part 1: Project Introduction\n",
        "\n",
        "###Project Requirements\n",
        "\n",
        "For this project, we will need to propose a problem that we are going to solve for a made-up\n",
        "client using machine learning techniques. We will need to propose at least three machine learning\n",
        "models that we will need to compare as a potential solution for this problem."
      ],
      "metadata": {
        "id": "aDnN_jEXOZ0v"
      }
    },
    {
      "cell_type": "markdown",
      "source": [
        "### Instructions To Run\n",
        "\n",
        "To run this project on Google Collab, you should be able to simply run the entire file by selecting the `Runtime` button and selecting `Run all` button. Alternatively, you can set up a local environment where you install all the necessary packages and run it on your local machine."
      ],
      "metadata": {
        "id": "fC2FGLGrEt4U"
      }
    },
    {
      "cell_type": "markdown",
      "source": [
        "### Background\n",
        "\n",
        "The [\"Adult\" dataset](https://archive.ics.uci.edu/dataset/2/adult), commonly referred to as the \"census income\" dataset, is a renowned resource in the machine learning community. It comprises demographic and employment information from the U.S. census bureau, aimed at predicting whether an individual earns more than $50,000 annually. This dataset includes a mix of categorical and numerical attributes such as age, work class, education, marital status, occupation, and hours per week, making it an excellent candidate for practicing binary classification techniques."
      ],
      "metadata": {
        "id": "sIQ2q3DjKXV_"
      }
    },
    {
      "cell_type": "markdown",
      "source": [
        "### Motivation\n",
        "\n",
        "The motivation behind using the Adult dataset for a machine learning project is twofold. First, it addresses a real-world problem that can aid in socioeconomic studies, policy making, and targeted marketing. Second, it offers a rich dataset that requires a comprehensive set of machine learning practices to tackle, including data preprocessing, model selection, and performance evaluation. This project not only helps in refining predictive modeling skills but also in understanding the intricacies involved in handling datasets that reflect real-world scenarios. Additionally, as young adults entering the workforce, this analysis provides valuable insights into the determinants of income levels, enhancing our understanding of how various factors influence earning potential.\n"
      ],
      "metadata": {
        "id": "ra6xbV6K0CSj"
      }
    },
    {
      "cell_type": "markdown",
      "source": [
        "\n",
        "### Project Approach\n",
        "\n",
        "As per our email conversation with Dr. Dawson, the project follows a similar approach to our assignments and as such, this Jupyter Notebook has a nearly identical outline to our previous assignments.\n",
        "\n",
        "The project involves several key steps, starting from a thorough understanding of the dataset to deploying a predictive model. The data preprocessing phase includes handling missing values, encoding categorical variables, scaling features, and possibly feature engineering to enhance model performance. Following preprocessing, the dataset is split into training and testing sets.\n",
        "\n",
        "We compare three machine learning models: Logistic Regression,KNeighborsClassifier, and SVC. These models are selected based on their ability to handle binary classification tasks effectively and their varying degrees of complexity and interpretability.\n",
        "\n",
        "To streamline the experimentation process, pipelines are created for each model to encapsulate data preprocessing and modeling steps. This approach facilitates easy experimentation with different model configurations and hyperparameters. Model performance is evaluated using metrics suitable for classification tasks, such as accuracy, precision, recall, and F1 score.\n",
        "\n",
        "Visualization plays a crucial role throughout the project, from initial data exploration to comparing model performances. Understanding the distribution of features, the relationship between variables, and the importance of different features for the predictive task are all critical for gaining insights into the dataset and the models' behaviors.\n"
      ],
      "metadata": {
        "id": "TIMNmm-Q0Ji5"
      }
    },
    {
      "cell_type": "markdown",
      "source": [
        "\n",
        "### Data Source\n",
        "\n",
        "The Adult dataset is publicly available and can be accessed from repositories like the UCI Machine Learning Repository or through this link https://archive.ics.uci.edu/dataset/2/adult. It has been widely used for research and educational purposes in the machine learning community.\n"
      ],
      "metadata": {
        "id": "mZ2V-c9P0Lm8"
      }
    },
    {
      "cell_type": "markdown",
      "source": [
        "\n",
        "### Conclusion\n",
        "\n",
        "This project exemplifies the end-to-end process of applying machine learning to a practical problem. It underscores the importance of meticulous data preprocessing, the strategic selection of models, and the insightful analysis of model performance through visualization. Through this project, we aim to predict income levels from census data with high cross validation scores, providing valuable insights into the factors that most significantly influence an individual's earning potential."
      ],
      "metadata": {
        "id": "90w1nPbn0OHe"
      }
    },
    {
      "cell_type": "markdown",
      "source": [
        "## Part 2: Classification"
      ],
      "metadata": {
        "id": "QcZueUn80_Vw"
      }
    },
    {
      "cell_type": "markdown",
      "source": [
        "### 2.1: Load Data\n",
        "For this project, we will be using the UC Irvine ML Repository Adult dataset. This dataset uses various demographic and personal characteristics of individuals to predict whether or not the individual makes over 50K a year.\n",
        "\n",
        "More information on the dataset can be found here:\n",
        "https://archive.ics.uci.edu/dataset/2/adult"
      ],
      "metadata": {
        "id": "jO_qaRXWO1jH"
      }
    },
    {
      "cell_type": "code",
      "execution_count": null,
      "metadata": {
        "colab": {
          "base_uri": "https://localhost:8080/"
        },
        "id": "TTb0YtTyi_1p",
        "outputId": "134bbd37-d6ab-4130-a5dd-2bc11d7b9616"
      },
      "outputs": [
        {
          "output_type": "stream",
          "name": "stdout",
          "text": [
            "Requirement already satisfied: ucimlrepo in /usr/local/lib/python3.10/dist-packages (0.0.6)\n"
          ]
        }
      ],
      "source": [
        "# Install UC Irvine ML Repository which contains the Adult Dataset\n",
        "!pip install ucimlrepo"
      ]
    },
    {
      "cell_type": "code",
      "source": [
        "# Import Necessary Libraries\n",
        "\n",
        "# Core ML Libraries\n",
        "import numpy as np\n",
        "import pandas as pd\n",
        "import matplotlib.pyplot as plt # Plot the graphs\n",
        "import seaborn as sns # Extension on Matplotlib\n",
        "\n",
        "# Sci-Kit Learn Libraries\n",
        "from sklearn import set_config\n",
        "from sklearn.model_selection import train_test_split, GridSearchCV, cross_val_score\n",
        "from sklearn.preprocessing import StandardScaler, LabelEncoder, OneHotEncoder\n",
        "from sklearn.pipeline import Pipeline\n",
        "from sklearn.linear_model import LogisticRegression\n",
        "from sklearn.svm import SVC\n",
        "from sklearn.metrics import make_scorer, accuracy_score, f1_score, classification_report, ConfusionMatrixDisplay, confusion_matrix\n",
        "from sklearn.neighbors import KNeighborsClassifier, KNeighborsRegressor\n",
        "from sklearn.compose import ColumnTransformer, make_column_selector\n",
        "from sklearn.ensemble import RandomForestRegressor\n",
        "\n",
        "!pip install mglearn\n",
        "import mglearn"
      ],
      "metadata": {
        "id": "N_KF0pPx3aRI",
        "colab": {
          "base_uri": "https://localhost:8080/"
        },
        "outputId": "ec5278bb-b79e-4e7a-c1d7-f6d6223e0936"
      },
      "execution_count": null,
      "outputs": [
        {
          "output_type": "stream",
          "name": "stdout",
          "text": [
            "Requirement already satisfied: mglearn in /usr/local/lib/python3.10/dist-packages (0.2.0)\n",
            "Requirement already satisfied: numpy in /usr/local/lib/python3.10/dist-packages (from mglearn) (1.25.2)\n",
            "Requirement already satisfied: matplotlib in /usr/local/lib/python3.10/dist-packages (from mglearn) (3.7.1)\n",
            "Requirement already satisfied: scikit-learn in /usr/local/lib/python3.10/dist-packages (from mglearn) (1.2.2)\n",
            "Requirement already satisfied: pandas in /usr/local/lib/python3.10/dist-packages (from mglearn) (2.0.3)\n",
            "Requirement already satisfied: pillow in /usr/local/lib/python3.10/dist-packages (from mglearn) (9.4.0)\n",
            "Requirement already satisfied: cycler in /usr/local/lib/python3.10/dist-packages (from mglearn) (0.12.1)\n",
            "Requirement already satisfied: imageio in /usr/local/lib/python3.10/dist-packages (from mglearn) (2.31.6)\n",
            "Requirement already satisfied: joblib in /usr/local/lib/python3.10/dist-packages (from mglearn) (1.3.2)\n",
            "Requirement already satisfied: contourpy>=1.0.1 in /usr/local/lib/python3.10/dist-packages (from matplotlib->mglearn) (1.2.1)\n",
            "Requirement already satisfied: fonttools>=4.22.0 in /usr/local/lib/python3.10/dist-packages (from matplotlib->mglearn) (4.50.0)\n",
            "Requirement already satisfied: kiwisolver>=1.0.1 in /usr/local/lib/python3.10/dist-packages (from matplotlib->mglearn) (1.4.5)\n",
            "Requirement already satisfied: packaging>=20.0 in /usr/local/lib/python3.10/dist-packages (from matplotlib->mglearn) (24.0)\n",
            "Requirement already satisfied: pyparsing>=2.3.1 in /usr/local/lib/python3.10/dist-packages (from matplotlib->mglearn) (3.1.2)\n",
            "Requirement already satisfied: python-dateutil>=2.7 in /usr/local/lib/python3.10/dist-packages (from matplotlib->mglearn) (2.8.2)\n",
            "Requirement already satisfied: pytz>=2020.1 in /usr/local/lib/python3.10/dist-packages (from pandas->mglearn) (2023.4)\n",
            "Requirement already satisfied: tzdata>=2022.1 in /usr/local/lib/python3.10/dist-packages (from pandas->mglearn) (2024.1)\n",
            "Requirement already satisfied: scipy>=1.3.2 in /usr/local/lib/python3.10/dist-packages (from scikit-learn->mglearn) (1.11.4)\n",
            "Requirement already satisfied: threadpoolctl>=2.0.0 in /usr/local/lib/python3.10/dist-packages (from scikit-learn->mglearn) (3.4.0)\n",
            "Requirement already satisfied: six>=1.5 in /usr/local/lib/python3.10/dist-packages (from python-dateutil>=2.7->matplotlib->mglearn) (1.16.0)\n"
          ]
        }
      ]
    },
    {
      "cell_type": "markdown",
      "source": [
        "#### Prepare the feature matrix and target vector\n",
        "\n",
        "Using the UC Irvine Repository `fetch_ucirepo()` function, load the Adult data set into feature matrix `X` and target vector `y`"
      ],
      "metadata": {
        "id": "YV-7hV1x37Cg"
      }
    },
    {
      "cell_type": "code",
      "source": [
        "# Load the dataset\n",
        "from ucimlrepo import fetch_ucirepo\n",
        "\n",
        "# Fetch dataset\n",
        "adult = fetch_ucirepo(name='Adult')\n",
        "\n",
        "# Load data (as pandas dataframes) into Feature Matrix X and Target Vector Y.\n",
        "X = adult.data.features\n",
        "y = adult.data.targets\n",
        "\n",
        "# First, create a combined DataFrame\n",
        "data = pd.concat([X, y], axis=1)\n",
        "\n",
        "# Sample the combined DataFrame (Choosing 2% of the entire dataset [which has over 48K records])\n",
        "data_sampled = data.sample(frac=0.02, random_state=0)"
      ],
      "metadata": {
        "id": "swQuVKnS1HrW"
      },
      "execution_count": null,
      "outputs": []
    },
    {
      "cell_type": "markdown",
      "source": [
        "### 2.2 Data Cleaning and Preprocessing"
      ],
      "metadata": {
        "id": "XSYbr1hqPBJI"
      }
    },
    {
      "cell_type": "markdown",
      "source": [
        "We observed that the dataset should contain only two unique values for the target (\">50K\", \"<=50K\"), yet it includes four. The discrepancy lies within the target column, where an additional period \".\" appended to some entries creates apparent uniqueness, such as \">50K.\" and \"<=50K.\", which should not be distinct from \">50K\" and \"<=50K\".\n",
        "\n",
        "Additionally, we conducted a null value check and subsequently removed all records containing null values from the dataset."
      ],
      "metadata": {
        "id": "CTKuSHFn5hDk"
      }
    },
    {
      "cell_type": "code",
      "source": [
        "data_sampled"
      ],
      "metadata": {
        "colab": {
          "base_uri": "https://localhost:8080/",
          "height": 424
        },
        "id": "oIVVw2YA18Ue",
        "outputId": "c2f20ecc-aa6e-4a71-a972-5fd09bef8aab"
      },
      "execution_count": null,
      "outputs": [
        {
          "output_type": "execute_result",
          "data": {
            "text/plain": [
              "       age         workclass  fnlwgt  education  education-num  \\\n",
              "38113   41           Private  151856    HS-grad              9   \n",
              "39214   57  Self-emp-not-inc   87584  Doctorate             16   \n",
              "44248   31         Local-gov  220669  Bachelors             13   \n",
              "10283   55           Private  171355  Assoc-voc             11   \n",
              "26724   59  Self-emp-not-inc  148626       10th              6   \n",
              "...    ...               ...     ...        ...            ...   \n",
              "23980   70                 ?  149040    HS-grad              9   \n",
              "46284   23           Private  265077  Bachelors             13   \n",
              "27780   38           Private  287701       11th              7   \n",
              "7648    53           Private  177727    HS-grad              9   \n",
              "38033   52           Private  163948        9th              5   \n",
              "\n",
              "           marital-status         occupation   relationship   race     sex  \\\n",
              "38113  Married-civ-spouse    Protective-serv        Husband  White    Male   \n",
              "39214            Divorced     Prof-specialty  Not-in-family  White  Female   \n",
              "44248       Never-married     Prof-specialty      Own-child  White  Female   \n",
              "10283  Married-civ-spouse  Machine-op-inspct        Husband  White    Male   \n",
              "26724  Married-civ-spouse    Farming-fishing        Husband  White    Male   \n",
              "...                   ...                ...            ...    ...     ...   \n",
              "23980             Widowed                  ?  Not-in-family  White  Female   \n",
              "46284       Never-married       Adm-clerical      Own-child  White  Female   \n",
              "27780  Married-civ-spouse  Handlers-cleaners        Husband  White    Male   \n",
              "7648   Married-civ-spouse  Machine-op-inspct        Husband  White    Male   \n",
              "38033  Married-civ-spouse    Farming-fishing        Husband  White    Male   \n",
              "\n",
              "       capital-gain  capital-loss  hours-per-week native-country  income  \n",
              "38113             0             0              40  United-States  <=50K.  \n",
              "39214             0             0              25  United-States  <=50K.  \n",
              "44248          6849             0              40  United-States  <=50K.  \n",
              "10283             0             0              20  United-States   <=50K  \n",
              "26724             0             0              40  United-States   <=50K  \n",
              "...             ...           ...             ...            ...     ...  \n",
              "23980          2964             0              12  United-States   <=50K  \n",
              "46284          1055             0              10  United-States  <=50K.  \n",
              "27780             0             0              48  United-States    >50K  \n",
              "7648              0             0              40  United-States    >50K  \n",
              "38033             0             0              60  United-States   >50K.  \n",
              "\n",
              "[977 rows x 15 columns]"
            ],
            "text/html": [
              "\n",
              "  <div id=\"df-470ecf42-a186-4c0c-8457-757fc671c07b\" class=\"colab-df-container\">\n",
              "    <div>\n",
              "<style scoped>\n",
              "    .dataframe tbody tr th:only-of-type {\n",
              "        vertical-align: middle;\n",
              "    }\n",
              "\n",
              "    .dataframe tbody tr th {\n",
              "        vertical-align: top;\n",
              "    }\n",
              "\n",
              "    .dataframe thead th {\n",
              "        text-align: right;\n",
              "    }\n",
              "</style>\n",
              "<table border=\"1\" class=\"dataframe\">\n",
              "  <thead>\n",
              "    <tr style=\"text-align: right;\">\n",
              "      <th></th>\n",
              "      <th>age</th>\n",
              "      <th>workclass</th>\n",
              "      <th>fnlwgt</th>\n",
              "      <th>education</th>\n",
              "      <th>education-num</th>\n",
              "      <th>marital-status</th>\n",
              "      <th>occupation</th>\n",
              "      <th>relationship</th>\n",
              "      <th>race</th>\n",
              "      <th>sex</th>\n",
              "      <th>capital-gain</th>\n",
              "      <th>capital-loss</th>\n",
              "      <th>hours-per-week</th>\n",
              "      <th>native-country</th>\n",
              "      <th>income</th>\n",
              "    </tr>\n",
              "  </thead>\n",
              "  <tbody>\n",
              "    <tr>\n",
              "      <th>38113</th>\n",
              "      <td>41</td>\n",
              "      <td>Private</td>\n",
              "      <td>151856</td>\n",
              "      <td>HS-grad</td>\n",
              "      <td>9</td>\n",
              "      <td>Married-civ-spouse</td>\n",
              "      <td>Protective-serv</td>\n",
              "      <td>Husband</td>\n",
              "      <td>White</td>\n",
              "      <td>Male</td>\n",
              "      <td>0</td>\n",
              "      <td>0</td>\n",
              "      <td>40</td>\n",
              "      <td>United-States</td>\n",
              "      <td>&lt;=50K.</td>\n",
              "    </tr>\n",
              "    <tr>\n",
              "      <th>39214</th>\n",
              "      <td>57</td>\n",
              "      <td>Self-emp-not-inc</td>\n",
              "      <td>87584</td>\n",
              "      <td>Doctorate</td>\n",
              "      <td>16</td>\n",
              "      <td>Divorced</td>\n",
              "      <td>Prof-specialty</td>\n",
              "      <td>Not-in-family</td>\n",
              "      <td>White</td>\n",
              "      <td>Female</td>\n",
              "      <td>0</td>\n",
              "      <td>0</td>\n",
              "      <td>25</td>\n",
              "      <td>United-States</td>\n",
              "      <td>&lt;=50K.</td>\n",
              "    </tr>\n",
              "    <tr>\n",
              "      <th>44248</th>\n",
              "      <td>31</td>\n",
              "      <td>Local-gov</td>\n",
              "      <td>220669</td>\n",
              "      <td>Bachelors</td>\n",
              "      <td>13</td>\n",
              "      <td>Never-married</td>\n",
              "      <td>Prof-specialty</td>\n",
              "      <td>Own-child</td>\n",
              "      <td>White</td>\n",
              "      <td>Female</td>\n",
              "      <td>6849</td>\n",
              "      <td>0</td>\n",
              "      <td>40</td>\n",
              "      <td>United-States</td>\n",
              "      <td>&lt;=50K.</td>\n",
              "    </tr>\n",
              "    <tr>\n",
              "      <th>10283</th>\n",
              "      <td>55</td>\n",
              "      <td>Private</td>\n",
              "      <td>171355</td>\n",
              "      <td>Assoc-voc</td>\n",
              "      <td>11</td>\n",
              "      <td>Married-civ-spouse</td>\n",
              "      <td>Machine-op-inspct</td>\n",
              "      <td>Husband</td>\n",
              "      <td>White</td>\n",
              "      <td>Male</td>\n",
              "      <td>0</td>\n",
              "      <td>0</td>\n",
              "      <td>20</td>\n",
              "      <td>United-States</td>\n",
              "      <td>&lt;=50K</td>\n",
              "    </tr>\n",
              "    <tr>\n",
              "      <th>26724</th>\n",
              "      <td>59</td>\n",
              "      <td>Self-emp-not-inc</td>\n",
              "      <td>148626</td>\n",
              "      <td>10th</td>\n",
              "      <td>6</td>\n",
              "      <td>Married-civ-spouse</td>\n",
              "      <td>Farming-fishing</td>\n",
              "      <td>Husband</td>\n",
              "      <td>White</td>\n",
              "      <td>Male</td>\n",
              "      <td>0</td>\n",
              "      <td>0</td>\n",
              "      <td>40</td>\n",
              "      <td>United-States</td>\n",
              "      <td>&lt;=50K</td>\n",
              "    </tr>\n",
              "    <tr>\n",
              "      <th>...</th>\n",
              "      <td>...</td>\n",
              "      <td>...</td>\n",
              "      <td>...</td>\n",
              "      <td>...</td>\n",
              "      <td>...</td>\n",
              "      <td>...</td>\n",
              "      <td>...</td>\n",
              "      <td>...</td>\n",
              "      <td>...</td>\n",
              "      <td>...</td>\n",
              "      <td>...</td>\n",
              "      <td>...</td>\n",
              "      <td>...</td>\n",
              "      <td>...</td>\n",
              "      <td>...</td>\n",
              "    </tr>\n",
              "    <tr>\n",
              "      <th>23980</th>\n",
              "      <td>70</td>\n",
              "      <td>?</td>\n",
              "      <td>149040</td>\n",
              "      <td>HS-grad</td>\n",
              "      <td>9</td>\n",
              "      <td>Widowed</td>\n",
              "      <td>?</td>\n",
              "      <td>Not-in-family</td>\n",
              "      <td>White</td>\n",
              "      <td>Female</td>\n",
              "      <td>2964</td>\n",
              "      <td>0</td>\n",
              "      <td>12</td>\n",
              "      <td>United-States</td>\n",
              "      <td>&lt;=50K</td>\n",
              "    </tr>\n",
              "    <tr>\n",
              "      <th>46284</th>\n",
              "      <td>23</td>\n",
              "      <td>Private</td>\n",
              "      <td>265077</td>\n",
              "      <td>Bachelors</td>\n",
              "      <td>13</td>\n",
              "      <td>Never-married</td>\n",
              "      <td>Adm-clerical</td>\n",
              "      <td>Own-child</td>\n",
              "      <td>White</td>\n",
              "      <td>Female</td>\n",
              "      <td>1055</td>\n",
              "      <td>0</td>\n",
              "      <td>10</td>\n",
              "      <td>United-States</td>\n",
              "      <td>&lt;=50K.</td>\n",
              "    </tr>\n",
              "    <tr>\n",
              "      <th>27780</th>\n",
              "      <td>38</td>\n",
              "      <td>Private</td>\n",
              "      <td>287701</td>\n",
              "      <td>11th</td>\n",
              "      <td>7</td>\n",
              "      <td>Married-civ-spouse</td>\n",
              "      <td>Handlers-cleaners</td>\n",
              "      <td>Husband</td>\n",
              "      <td>White</td>\n",
              "      <td>Male</td>\n",
              "      <td>0</td>\n",
              "      <td>0</td>\n",
              "      <td>48</td>\n",
              "      <td>United-States</td>\n",
              "      <td>&gt;50K</td>\n",
              "    </tr>\n",
              "    <tr>\n",
              "      <th>7648</th>\n",
              "      <td>53</td>\n",
              "      <td>Private</td>\n",
              "      <td>177727</td>\n",
              "      <td>HS-grad</td>\n",
              "      <td>9</td>\n",
              "      <td>Married-civ-spouse</td>\n",
              "      <td>Machine-op-inspct</td>\n",
              "      <td>Husband</td>\n",
              "      <td>White</td>\n",
              "      <td>Male</td>\n",
              "      <td>0</td>\n",
              "      <td>0</td>\n",
              "      <td>40</td>\n",
              "      <td>United-States</td>\n",
              "      <td>&gt;50K</td>\n",
              "    </tr>\n",
              "    <tr>\n",
              "      <th>38033</th>\n",
              "      <td>52</td>\n",
              "      <td>Private</td>\n",
              "      <td>163948</td>\n",
              "      <td>9th</td>\n",
              "      <td>5</td>\n",
              "      <td>Married-civ-spouse</td>\n",
              "      <td>Farming-fishing</td>\n",
              "      <td>Husband</td>\n",
              "      <td>White</td>\n",
              "      <td>Male</td>\n",
              "      <td>0</td>\n",
              "      <td>0</td>\n",
              "      <td>60</td>\n",
              "      <td>United-States</td>\n",
              "      <td>&gt;50K.</td>\n",
              "    </tr>\n",
              "  </tbody>\n",
              "</table>\n",
              "<p>977 rows × 15 columns</p>\n",
              "</div>\n",
              "    <div class=\"colab-df-buttons\">\n",
              "\n",
              "  <div class=\"colab-df-container\">\n",
              "    <button class=\"colab-df-convert\" onclick=\"convertToInteractive('df-470ecf42-a186-4c0c-8457-757fc671c07b')\"\n",
              "            title=\"Convert this dataframe to an interactive table.\"\n",
              "            style=\"display:none;\">\n",
              "\n",
              "  <svg xmlns=\"http://www.w3.org/2000/svg\" height=\"24px\" viewBox=\"0 -960 960 960\">\n",
              "    <path d=\"M120-120v-720h720v720H120Zm60-500h600v-160H180v160Zm220 220h160v-160H400v160Zm0 220h160v-160H400v160ZM180-400h160v-160H180v160Zm440 0h160v-160H620v160ZM180-180h160v-160H180v160Zm440 0h160v-160H620v160Z\"/>\n",
              "  </svg>\n",
              "    </button>\n",
              "\n",
              "  <style>\n",
              "    .colab-df-container {\n",
              "      display:flex;\n",
              "      gap: 12px;\n",
              "    }\n",
              "\n",
              "    .colab-df-convert {\n",
              "      background-color: #E8F0FE;\n",
              "      border: none;\n",
              "      border-radius: 50%;\n",
              "      cursor: pointer;\n",
              "      display: none;\n",
              "      fill: #1967D2;\n",
              "      height: 32px;\n",
              "      padding: 0 0 0 0;\n",
              "      width: 32px;\n",
              "    }\n",
              "\n",
              "    .colab-df-convert:hover {\n",
              "      background-color: #E2EBFA;\n",
              "      box-shadow: 0px 1px 2px rgba(60, 64, 67, 0.3), 0px 1px 3px 1px rgba(60, 64, 67, 0.15);\n",
              "      fill: #174EA6;\n",
              "    }\n",
              "\n",
              "    .colab-df-buttons div {\n",
              "      margin-bottom: 4px;\n",
              "    }\n",
              "\n",
              "    [theme=dark] .colab-df-convert {\n",
              "      background-color: #3B4455;\n",
              "      fill: #D2E3FC;\n",
              "    }\n",
              "\n",
              "    [theme=dark] .colab-df-convert:hover {\n",
              "      background-color: #434B5C;\n",
              "      box-shadow: 0px 1px 3px 1px rgba(0, 0, 0, 0.15);\n",
              "      filter: drop-shadow(0px 1px 2px rgba(0, 0, 0, 0.3));\n",
              "      fill: #FFFFFF;\n",
              "    }\n",
              "  </style>\n",
              "\n",
              "    <script>\n",
              "      const buttonEl =\n",
              "        document.querySelector('#df-470ecf42-a186-4c0c-8457-757fc671c07b button.colab-df-convert');\n",
              "      buttonEl.style.display =\n",
              "        google.colab.kernel.accessAllowed ? 'block' : 'none';\n",
              "\n",
              "      async function convertToInteractive(key) {\n",
              "        const element = document.querySelector('#df-470ecf42-a186-4c0c-8457-757fc671c07b');\n",
              "        const dataTable =\n",
              "          await google.colab.kernel.invokeFunction('convertToInteractive',\n",
              "                                                    [key], {});\n",
              "        if (!dataTable) return;\n",
              "\n",
              "        const docLinkHtml = 'Like what you see? Visit the ' +\n",
              "          '<a target=\"_blank\" href=https://colab.research.google.com/notebooks/data_table.ipynb>data table notebook</a>'\n",
              "          + ' to learn more about interactive tables.';\n",
              "        element.innerHTML = '';\n",
              "        dataTable['output_type'] = 'display_data';\n",
              "        await google.colab.output.renderOutput(dataTable, element);\n",
              "        const docLink = document.createElement('div');\n",
              "        docLink.innerHTML = docLinkHtml;\n",
              "        element.appendChild(docLink);\n",
              "      }\n",
              "    </script>\n",
              "  </div>\n",
              "\n",
              "\n",
              "<div id=\"df-af5ee5bf-a69e-4254-85ef-3c80e8e3c7b0\">\n",
              "  <button class=\"colab-df-quickchart\" onclick=\"quickchart('df-af5ee5bf-a69e-4254-85ef-3c80e8e3c7b0')\"\n",
              "            title=\"Suggest charts\"\n",
              "            style=\"display:none;\">\n",
              "\n",
              "<svg xmlns=\"http://www.w3.org/2000/svg\" height=\"24px\"viewBox=\"0 0 24 24\"\n",
              "     width=\"24px\">\n",
              "    <g>\n",
              "        <path d=\"M19 3H5c-1.1 0-2 .9-2 2v14c0 1.1.9 2 2 2h14c1.1 0 2-.9 2-2V5c0-1.1-.9-2-2-2zM9 17H7v-7h2v7zm4 0h-2V7h2v10zm4 0h-2v-4h2v4z\"/>\n",
              "    </g>\n",
              "</svg>\n",
              "  </button>\n",
              "\n",
              "<style>\n",
              "  .colab-df-quickchart {\n",
              "      --bg-color: #E8F0FE;\n",
              "      --fill-color: #1967D2;\n",
              "      --hover-bg-color: #E2EBFA;\n",
              "      --hover-fill-color: #174EA6;\n",
              "      --disabled-fill-color: #AAA;\n",
              "      --disabled-bg-color: #DDD;\n",
              "  }\n",
              "\n",
              "  [theme=dark] .colab-df-quickchart {\n",
              "      --bg-color: #3B4455;\n",
              "      --fill-color: #D2E3FC;\n",
              "      --hover-bg-color: #434B5C;\n",
              "      --hover-fill-color: #FFFFFF;\n",
              "      --disabled-bg-color: #3B4455;\n",
              "      --disabled-fill-color: #666;\n",
              "  }\n",
              "\n",
              "  .colab-df-quickchart {\n",
              "    background-color: var(--bg-color);\n",
              "    border: none;\n",
              "    border-radius: 50%;\n",
              "    cursor: pointer;\n",
              "    display: none;\n",
              "    fill: var(--fill-color);\n",
              "    height: 32px;\n",
              "    padding: 0;\n",
              "    width: 32px;\n",
              "  }\n",
              "\n",
              "  .colab-df-quickchart:hover {\n",
              "    background-color: var(--hover-bg-color);\n",
              "    box-shadow: 0 1px 2px rgba(60, 64, 67, 0.3), 0 1px 3px 1px rgba(60, 64, 67, 0.15);\n",
              "    fill: var(--button-hover-fill-color);\n",
              "  }\n",
              "\n",
              "  .colab-df-quickchart-complete:disabled,\n",
              "  .colab-df-quickchart-complete:disabled:hover {\n",
              "    background-color: var(--disabled-bg-color);\n",
              "    fill: var(--disabled-fill-color);\n",
              "    box-shadow: none;\n",
              "  }\n",
              "\n",
              "  .colab-df-spinner {\n",
              "    border: 2px solid var(--fill-color);\n",
              "    border-color: transparent;\n",
              "    border-bottom-color: var(--fill-color);\n",
              "    animation:\n",
              "      spin 1s steps(1) infinite;\n",
              "  }\n",
              "\n",
              "  @keyframes spin {\n",
              "    0% {\n",
              "      border-color: transparent;\n",
              "      border-bottom-color: var(--fill-color);\n",
              "      border-left-color: var(--fill-color);\n",
              "    }\n",
              "    20% {\n",
              "      border-color: transparent;\n",
              "      border-left-color: var(--fill-color);\n",
              "      border-top-color: var(--fill-color);\n",
              "    }\n",
              "    30% {\n",
              "      border-color: transparent;\n",
              "      border-left-color: var(--fill-color);\n",
              "      border-top-color: var(--fill-color);\n",
              "      border-right-color: var(--fill-color);\n",
              "    }\n",
              "    40% {\n",
              "      border-color: transparent;\n",
              "      border-right-color: var(--fill-color);\n",
              "      border-top-color: var(--fill-color);\n",
              "    }\n",
              "    60% {\n",
              "      border-color: transparent;\n",
              "      border-right-color: var(--fill-color);\n",
              "    }\n",
              "    80% {\n",
              "      border-color: transparent;\n",
              "      border-right-color: var(--fill-color);\n",
              "      border-bottom-color: var(--fill-color);\n",
              "    }\n",
              "    90% {\n",
              "      border-color: transparent;\n",
              "      border-bottom-color: var(--fill-color);\n",
              "    }\n",
              "  }\n",
              "</style>\n",
              "\n",
              "  <script>\n",
              "    async function quickchart(key) {\n",
              "      const quickchartButtonEl =\n",
              "        document.querySelector('#' + key + ' button');\n",
              "      quickchartButtonEl.disabled = true;  // To prevent multiple clicks.\n",
              "      quickchartButtonEl.classList.add('colab-df-spinner');\n",
              "      try {\n",
              "        const charts = await google.colab.kernel.invokeFunction(\n",
              "            'suggestCharts', [key], {});\n",
              "      } catch (error) {\n",
              "        console.error('Error during call to suggestCharts:', error);\n",
              "      }\n",
              "      quickchartButtonEl.classList.remove('colab-df-spinner');\n",
              "      quickchartButtonEl.classList.add('colab-df-quickchart-complete');\n",
              "    }\n",
              "    (() => {\n",
              "      let quickchartButtonEl =\n",
              "        document.querySelector('#df-af5ee5bf-a69e-4254-85ef-3c80e8e3c7b0 button');\n",
              "      quickchartButtonEl.style.display =\n",
              "        google.colab.kernel.accessAllowed ? 'block' : 'none';\n",
              "    })();\n",
              "  </script>\n",
              "</div>\n",
              "\n",
              "  <div id=\"id_609fb5ae-50ff-41b2-b88b-f9f0f5e1f8f5\">\n",
              "    <style>\n",
              "      .colab-df-generate {\n",
              "        background-color: #E8F0FE;\n",
              "        border: none;\n",
              "        border-radius: 50%;\n",
              "        cursor: pointer;\n",
              "        display: none;\n",
              "        fill: #1967D2;\n",
              "        height: 32px;\n",
              "        padding: 0 0 0 0;\n",
              "        width: 32px;\n",
              "      }\n",
              "\n",
              "      .colab-df-generate:hover {\n",
              "        background-color: #E2EBFA;\n",
              "        box-shadow: 0px 1px 2px rgba(60, 64, 67, 0.3), 0px 1px 3px 1px rgba(60, 64, 67, 0.15);\n",
              "        fill: #174EA6;\n",
              "      }\n",
              "\n",
              "      [theme=dark] .colab-df-generate {\n",
              "        background-color: #3B4455;\n",
              "        fill: #D2E3FC;\n",
              "      }\n",
              "\n",
              "      [theme=dark] .colab-df-generate:hover {\n",
              "        background-color: #434B5C;\n",
              "        box-shadow: 0px 1px 3px 1px rgba(0, 0, 0, 0.15);\n",
              "        filter: drop-shadow(0px 1px 2px rgba(0, 0, 0, 0.3));\n",
              "        fill: #FFFFFF;\n",
              "      }\n",
              "    </style>\n",
              "    <button class=\"colab-df-generate\" onclick=\"generateWithVariable('data_sampled')\"\n",
              "            title=\"Generate code using this dataframe.\"\n",
              "            style=\"display:none;\">\n",
              "\n",
              "  <svg xmlns=\"http://www.w3.org/2000/svg\" height=\"24px\"viewBox=\"0 0 24 24\"\n",
              "       width=\"24px\">\n",
              "    <path d=\"M7,19H8.4L18.45,9,17,7.55,7,17.6ZM5,21V16.75L18.45,3.32a2,2,0,0,1,2.83,0l1.4,1.43a1.91,1.91,0,0,1,.58,1.4,1.91,1.91,0,0,1-.58,1.4L9.25,21ZM18.45,9,17,7.55Zm-12,3A5.31,5.31,0,0,0,4.9,8.1,5.31,5.31,0,0,0,1,6.5,5.31,5.31,0,0,0,4.9,4.9,5.31,5.31,0,0,0,6.5,1,5.31,5.31,0,0,0,8.1,4.9,5.31,5.31,0,0,0,12,6.5,5.46,5.46,0,0,0,6.5,12Z\"/>\n",
              "  </svg>\n",
              "    </button>\n",
              "    <script>\n",
              "      (() => {\n",
              "      const buttonEl =\n",
              "        document.querySelector('#id_609fb5ae-50ff-41b2-b88b-f9f0f5e1f8f5 button.colab-df-generate');\n",
              "      buttonEl.style.display =\n",
              "        google.colab.kernel.accessAllowed ? 'block' : 'none';\n",
              "\n",
              "      buttonEl.onclick = () => {\n",
              "        google.colab.notebook.generateWithVariable('data_sampled');\n",
              "      }\n",
              "      })();\n",
              "    </script>\n",
              "  </div>\n",
              "\n",
              "    </div>\n",
              "  </div>\n"
            ],
            "application/vnd.google.colaboratory.intrinsic+json": {
              "type": "dataframe",
              "variable_name": "data_sampled",
              "summary": "{\n  \"name\": \"data_sampled\",\n  \"rows\": 977,\n  \"fields\": [\n    {\n      \"column\": \"age\",\n      \"properties\": {\n        \"dtype\": \"number\",\n        \"std\": 13,\n        \"min\": 17,\n        \"max\": 88,\n        \"num_unique_values\": 67,\n        \"samples\": [\n          30,\n          44,\n          59\n        ],\n        \"semantic_type\": \"\",\n        \"description\": \"\"\n      }\n    },\n    {\n      \"column\": \"workclass\",\n      \"properties\": {\n        \"dtype\": \"category\",\n        \"num_unique_values\": 8,\n        \"samples\": [\n          \"Self-emp-not-inc\",\n          \"Federal-gov\",\n          \"Private\"\n        ],\n        \"semantic_type\": \"\",\n        \"description\": \"\"\n      }\n    },\n    {\n      \"column\": \"fnlwgt\",\n      \"properties\": {\n        \"dtype\": \"number\",\n        \"std\": 100284,\n        \"min\": 22228,\n        \"max\": 981628,\n        \"num_unique_values\": 968,\n        \"samples\": [\n          206190,\n          250165,\n          88642\n        ],\n        \"semantic_type\": \"\",\n        \"description\": \"\"\n      }\n    },\n    {\n      \"column\": \"education\",\n      \"properties\": {\n        \"dtype\": \"category\",\n        \"num_unique_values\": 16,\n        \"samples\": [\n          \"HS-grad\",\n          \"Doctorate\",\n          \"Some-college\"\n        ],\n        \"semantic_type\": \"\",\n        \"description\": \"\"\n      }\n    },\n    {\n      \"column\": \"education-num\",\n      \"properties\": {\n        \"dtype\": \"number\",\n        \"std\": 2,\n        \"min\": 1,\n        \"max\": 16,\n        \"num_unique_values\": 16,\n        \"samples\": [\n          9,\n          16,\n          10\n        ],\n        \"semantic_type\": \"\",\n        \"description\": \"\"\n      }\n    },\n    {\n      \"column\": \"marital-status\",\n      \"properties\": {\n        \"dtype\": \"category\",\n        \"num_unique_values\": 6,\n        \"samples\": [\n          \"Married-civ-spouse\",\n          \"Divorced\",\n          \"Married-spouse-absent\"\n        ],\n        \"semantic_type\": \"\",\n        \"description\": \"\"\n      }\n    },\n    {\n      \"column\": \"occupation\",\n      \"properties\": {\n        \"dtype\": \"category\",\n        \"num_unique_values\": 14,\n        \"samples\": [\n          \"Sales\",\n          \"Adm-clerical\",\n          \"Protective-serv\"\n        ],\n        \"semantic_type\": \"\",\n        \"description\": \"\"\n      }\n    },\n    {\n      \"column\": \"relationship\",\n      \"properties\": {\n        \"dtype\": \"category\",\n        \"num_unique_values\": 6,\n        \"samples\": [\n          \"Husband\",\n          \"Not-in-family\",\n          \"Wife\"\n        ],\n        \"semantic_type\": \"\",\n        \"description\": \"\"\n      }\n    },\n    {\n      \"column\": \"race\",\n      \"properties\": {\n        \"dtype\": \"category\",\n        \"num_unique_values\": 5,\n        \"samples\": [\n          \"Black\",\n          \"Amer-Indian-Eskimo\",\n          \"Asian-Pac-Islander\"\n        ],\n        \"semantic_type\": \"\",\n        \"description\": \"\"\n      }\n    },\n    {\n      \"column\": \"sex\",\n      \"properties\": {\n        \"dtype\": \"category\",\n        \"num_unique_values\": 2,\n        \"samples\": [\n          \"Female\",\n          \"Male\"\n        ],\n        \"semantic_type\": \"\",\n        \"description\": \"\"\n      }\n    },\n    {\n      \"column\": \"capital-gain\",\n      \"properties\": {\n        \"dtype\": \"number\",\n        \"std\": 8037,\n        \"min\": 0,\n        \"max\": 99999,\n        \"num_unique_values\": 41,\n        \"samples\": [\n          6723,\n          7430\n        ],\n        \"semantic_type\": \"\",\n        \"description\": \"\"\n      }\n    },\n    {\n      \"column\": \"capital-loss\",\n      \"properties\": {\n        \"dtype\": \"number\",\n        \"std\": 468,\n        \"min\": 0,\n        \"max\": 2547,\n        \"num_unique_values\": 26,\n        \"samples\": [\n          1740,\n          1672\n        ],\n        \"semantic_type\": \"\",\n        \"description\": \"\"\n      }\n    },\n    {\n      \"column\": \"hours-per-week\",\n      \"properties\": {\n        \"dtype\": \"number\",\n        \"std\": 11,\n        \"min\": 3,\n        \"max\": 99,\n        \"num_unique_values\": 57,\n        \"samples\": [\n          40,\n          56\n        ],\n        \"semantic_type\": \"\",\n        \"description\": \"\"\n      }\n    },\n    {\n      \"column\": \"native-country\",\n      \"properties\": {\n        \"dtype\": \"category\",\n        \"num_unique_values\": 26,\n        \"samples\": [\n          \"Germany\",\n          \"Honduras\"\n        ],\n        \"semantic_type\": \"\",\n        \"description\": \"\"\n      }\n    },\n    {\n      \"column\": \"income\",\n      \"properties\": {\n        \"dtype\": \"category\",\n        \"num_unique_values\": 4,\n        \"samples\": [\n          \"<=50K\",\n          \">50K.\"\n        ],\n        \"semantic_type\": \"\",\n        \"description\": \"\"\n      }\n    }\n  ]\n}"
            }
          },
          "metadata": {},
          "execution_count": 33
        }
      ]
    },
    {
      "cell_type": "code",
      "source": [
        "# Check for null values\n",
        "X_missing_values_count = X.isnull().sum() # check total number of nulls across all columns in feature matrix\n",
        "\n",
        "y_missing_values_count = y.isnull().sum() # check total number of nulls across the target matrix\n",
        "\n",
        "print(\"X Missing values count:\", X_missing_values_count)\n",
        "print(\"y Missing values count:\", y_missing_values_count)"
      ],
      "metadata": {
        "colab": {
          "base_uri": "https://localhost:8080/"
        },
        "id": "OgmMcNd8jV4f",
        "outputId": "51258fab-571f-448d-bffe-ef1ce2efde68"
      },
      "execution_count": null,
      "outputs": [
        {
          "output_type": "stream",
          "name": "stdout",
          "text": [
            "X Missing values count: age                 0\n",
            "workclass         963\n",
            "fnlwgt              0\n",
            "education           0\n",
            "education-num       0\n",
            "marital-status      0\n",
            "occupation        966\n",
            "relationship        0\n",
            "race                0\n",
            "sex                 0\n",
            "capital-gain        0\n",
            "capital-loss        0\n",
            "hours-per-week      0\n",
            "native-country    274\n",
            "dtype: int64\n",
            "y Missing values count: income    0\n",
            "dtype: int64\n"
          ]
        }
      ]
    },
    {
      "cell_type": "code",
      "source": [
        "# Drop all records with null values\n",
        "data_sampled = data_sampled.dropna()\n",
        "\n",
        "# Separate the sampled DataFrame back into X and y\n",
        "X = data_sampled.drop(y.columns, axis=1)\n",
        "y = data_sampled[y.columns]\n",
        "\n",
        "# Clean values with a period (Note: This converts y from dataframe to series data type)\n",
        "y = y['income'].str.replace(r'\\.', '', regex=True)\n",
        "\n",
        "# Print Metadata, Variable Information, Shape of X and y\n",
        "print(f\"Metadata:\\n{adult.metadata}\\n----\")\n",
        "print(f\"Variable Information:\\n{adult.variables}\\n----\")\n",
        "print(f\"X:\\nShape: {X.shape}\")\n",
        "print(f\"y:\\nShape: {y.shape}\\n---\")"
      ],
      "metadata": {
        "colab": {
          "base_uri": "https://localhost:8080/"
        },
        "id": "gxcfSPn-5z5f",
        "outputId": "fdf91720-152f-46ed-95d5-eba76aa1c369"
      },
      "execution_count": null,
      "outputs": [
        {
          "output_type": "stream",
          "name": "stdout",
          "text": [
            "Metadata:\n",
            "{'uci_id': 2, 'name': 'Adult', 'repository_url': 'https://archive.ics.uci.edu/dataset/2/adult', 'data_url': 'https://archive.ics.uci.edu/static/public/2/data.csv', 'abstract': 'Predict whether income exceeds $50K/yr based on census data. Also known as \"Census Income\" dataset. ', 'area': 'Social Science', 'tasks': ['Classification'], 'characteristics': ['Multivariate'], 'num_instances': 48842, 'num_features': 14, 'feature_types': ['Categorical', 'Integer'], 'demographics': ['Age', 'Income', 'Education Level', 'Other', 'Race', 'Sex'], 'target_col': ['income'], 'index_col': None, 'has_missing_values': 'yes', 'missing_values_symbol': 'NaN', 'year_of_dataset_creation': 1996, 'last_updated': 'Mon Aug 07 2023', 'dataset_doi': '10.24432/C5XW20', 'creators': ['Barry Becker', 'Ronny Kohavi'], 'intro_paper': None, 'additional_info': {'summary': 'Extraction was done by Barry Becker from the 1994 Census database.  A set of reasonably clean records was extracted using the following conditions: ((AAGE>16) && (AGI>100) && (AFNLWGT>1)&& (HRSWK>0))\\r\\n\\r\\nPrediction task is to determine whether a person makes over 50K a year.\\r\\n', 'purpose': None, 'funded_by': None, 'instances_represent': None, 'recommended_data_splits': None, 'sensitive_data': None, 'preprocessing_description': None, 'variable_info': 'Listing of attributes:\\r\\n\\r\\n>50K, <=50K.\\r\\n\\r\\nage: continuous.\\r\\nworkclass: Private, Self-emp-not-inc, Self-emp-inc, Federal-gov, Local-gov, State-gov, Without-pay, Never-worked.\\r\\nfnlwgt: continuous.\\r\\neducation: Bachelors, Some-college, 11th, HS-grad, Prof-school, Assoc-acdm, Assoc-voc, 9th, 7th-8th, 12th, Masters, 1st-4th, 10th, Doctorate, 5th-6th, Preschool.\\r\\neducation-num: continuous.\\r\\nmarital-status: Married-civ-spouse, Divorced, Never-married, Separated, Widowed, Married-spouse-absent, Married-AF-spouse.\\r\\noccupation: Tech-support, Craft-repair, Other-service, Sales, Exec-managerial, Prof-specialty, Handlers-cleaners, Machine-op-inspct, Adm-clerical, Farming-fishing, Transport-moving, Priv-house-serv, Protective-serv, Armed-Forces.\\r\\nrelationship: Wife, Own-child, Husband, Not-in-family, Other-relative, Unmarried.\\r\\nrace: White, Asian-Pac-Islander, Amer-Indian-Eskimo, Other, Black.\\r\\nsex: Female, Male.\\r\\ncapital-gain: continuous.\\r\\ncapital-loss: continuous.\\r\\nhours-per-week: continuous.\\r\\nnative-country: United-States, Cambodia, England, Puerto-Rico, Canada, Germany, Outlying-US(Guam-USVI-etc), India, Japan, Greece, South, China, Cuba, Iran, Honduras, Philippines, Italy, Poland, Jamaica, Vietnam, Mexico, Portugal, Ireland, France, Dominican-Republic, Laos, Ecuador, Taiwan, Haiti, Columbia, Hungary, Guatemala, Nicaragua, Scotland, Thailand, Yugoslavia, El-Salvador, Trinadad&Tobago, Peru, Hong, Holand-Netherlands.', 'citation': None}}\n",
            "----\n",
            "Variable Information:\n",
            "              name     role         type      demographic  \\\n",
            "0              age  Feature      Integer              Age   \n",
            "1        workclass  Feature  Categorical           Income   \n",
            "2           fnlwgt  Feature      Integer             None   \n",
            "3        education  Feature  Categorical  Education Level   \n",
            "4    education-num  Feature      Integer  Education Level   \n",
            "5   marital-status  Feature  Categorical            Other   \n",
            "6       occupation  Feature  Categorical            Other   \n",
            "7     relationship  Feature  Categorical            Other   \n",
            "8             race  Feature  Categorical             Race   \n",
            "9              sex  Feature       Binary              Sex   \n",
            "10    capital-gain  Feature      Integer             None   \n",
            "11    capital-loss  Feature      Integer             None   \n",
            "12  hours-per-week  Feature      Integer             None   \n",
            "13  native-country  Feature  Categorical            Other   \n",
            "14          income   Target       Binary           Income   \n",
            "\n",
            "                                          description units missing_values  \n",
            "0                                                 N/A  None             no  \n",
            "1   Private, Self-emp-not-inc, Self-emp-inc, Feder...  None            yes  \n",
            "2                                                None  None             no  \n",
            "3    Bachelors, Some-college, 11th, HS-grad, Prof-...  None             no  \n",
            "4                                                None  None             no  \n",
            "5   Married-civ-spouse, Divorced, Never-married, S...  None             no  \n",
            "6   Tech-support, Craft-repair, Other-service, Sal...  None            yes  \n",
            "7   Wife, Own-child, Husband, Not-in-family, Other...  None             no  \n",
            "8   White, Asian-Pac-Islander, Amer-Indian-Eskimo,...  None             no  \n",
            "9                                       Female, Male.  None             no  \n",
            "10                                               None  None             no  \n",
            "11                                               None  None             no  \n",
            "12                                               None  None             no  \n",
            "13  United-States, Cambodia, England, Puerto-Rico,...  None            yes  \n",
            "14                                       >50K, <=50K.  None             no  \n",
            "----\n",
            "X:\n",
            "Shape: (959, 14)\n",
            "y:\n",
            "Shape: (959,)\n",
            "---\n"
          ]
        }
      ]
    },
    {
      "cell_type": "code",
      "source": [
        "X.head() # View what the feature matrix looks like/ensure data properly loaded"
      ],
      "metadata": {
        "colab": {
          "base_uri": "https://localhost:8080/",
          "height": 206
        },
        "id": "n9cFvbK05iPg",
        "outputId": "1cc58dfc-6aa5-4f21-eafc-dfa8efb35fea"
      },
      "execution_count": null,
      "outputs": [
        {
          "output_type": "execute_result",
          "data": {
            "text/plain": [
              "       age         workclass  fnlwgt  education  education-num  \\\n",
              "38113   41           Private  151856    HS-grad              9   \n",
              "39214   57  Self-emp-not-inc   87584  Doctorate             16   \n",
              "44248   31         Local-gov  220669  Bachelors             13   \n",
              "10283   55           Private  171355  Assoc-voc             11   \n",
              "26724   59  Self-emp-not-inc  148626       10th              6   \n",
              "\n",
              "           marital-status         occupation   relationship   race     sex  \\\n",
              "38113  Married-civ-spouse    Protective-serv        Husband  White    Male   \n",
              "39214            Divorced     Prof-specialty  Not-in-family  White  Female   \n",
              "44248       Never-married     Prof-specialty      Own-child  White  Female   \n",
              "10283  Married-civ-spouse  Machine-op-inspct        Husband  White    Male   \n",
              "26724  Married-civ-spouse    Farming-fishing        Husband  White    Male   \n",
              "\n",
              "       capital-gain  capital-loss  hours-per-week native-country  \n",
              "38113             0             0              40  United-States  \n",
              "39214             0             0              25  United-States  \n",
              "44248          6849             0              40  United-States  \n",
              "10283             0             0              20  United-States  \n",
              "26724             0             0              40  United-States  "
            ],
            "text/html": [
              "\n",
              "  <div id=\"df-526aba10-2dff-414f-be29-3ea225c83c0b\" class=\"colab-df-container\">\n",
              "    <div>\n",
              "<style scoped>\n",
              "    .dataframe tbody tr th:only-of-type {\n",
              "        vertical-align: middle;\n",
              "    }\n",
              "\n",
              "    .dataframe tbody tr th {\n",
              "        vertical-align: top;\n",
              "    }\n",
              "\n",
              "    .dataframe thead th {\n",
              "        text-align: right;\n",
              "    }\n",
              "</style>\n",
              "<table border=\"1\" class=\"dataframe\">\n",
              "  <thead>\n",
              "    <tr style=\"text-align: right;\">\n",
              "      <th></th>\n",
              "      <th>age</th>\n",
              "      <th>workclass</th>\n",
              "      <th>fnlwgt</th>\n",
              "      <th>education</th>\n",
              "      <th>education-num</th>\n",
              "      <th>marital-status</th>\n",
              "      <th>occupation</th>\n",
              "      <th>relationship</th>\n",
              "      <th>race</th>\n",
              "      <th>sex</th>\n",
              "      <th>capital-gain</th>\n",
              "      <th>capital-loss</th>\n",
              "      <th>hours-per-week</th>\n",
              "      <th>native-country</th>\n",
              "    </tr>\n",
              "  </thead>\n",
              "  <tbody>\n",
              "    <tr>\n",
              "      <th>38113</th>\n",
              "      <td>41</td>\n",
              "      <td>Private</td>\n",
              "      <td>151856</td>\n",
              "      <td>HS-grad</td>\n",
              "      <td>9</td>\n",
              "      <td>Married-civ-spouse</td>\n",
              "      <td>Protective-serv</td>\n",
              "      <td>Husband</td>\n",
              "      <td>White</td>\n",
              "      <td>Male</td>\n",
              "      <td>0</td>\n",
              "      <td>0</td>\n",
              "      <td>40</td>\n",
              "      <td>United-States</td>\n",
              "    </tr>\n",
              "    <tr>\n",
              "      <th>39214</th>\n",
              "      <td>57</td>\n",
              "      <td>Self-emp-not-inc</td>\n",
              "      <td>87584</td>\n",
              "      <td>Doctorate</td>\n",
              "      <td>16</td>\n",
              "      <td>Divorced</td>\n",
              "      <td>Prof-specialty</td>\n",
              "      <td>Not-in-family</td>\n",
              "      <td>White</td>\n",
              "      <td>Female</td>\n",
              "      <td>0</td>\n",
              "      <td>0</td>\n",
              "      <td>25</td>\n",
              "      <td>United-States</td>\n",
              "    </tr>\n",
              "    <tr>\n",
              "      <th>44248</th>\n",
              "      <td>31</td>\n",
              "      <td>Local-gov</td>\n",
              "      <td>220669</td>\n",
              "      <td>Bachelors</td>\n",
              "      <td>13</td>\n",
              "      <td>Never-married</td>\n",
              "      <td>Prof-specialty</td>\n",
              "      <td>Own-child</td>\n",
              "      <td>White</td>\n",
              "      <td>Female</td>\n",
              "      <td>6849</td>\n",
              "      <td>0</td>\n",
              "      <td>40</td>\n",
              "      <td>United-States</td>\n",
              "    </tr>\n",
              "    <tr>\n",
              "      <th>10283</th>\n",
              "      <td>55</td>\n",
              "      <td>Private</td>\n",
              "      <td>171355</td>\n",
              "      <td>Assoc-voc</td>\n",
              "      <td>11</td>\n",
              "      <td>Married-civ-spouse</td>\n",
              "      <td>Machine-op-inspct</td>\n",
              "      <td>Husband</td>\n",
              "      <td>White</td>\n",
              "      <td>Male</td>\n",
              "      <td>0</td>\n",
              "      <td>0</td>\n",
              "      <td>20</td>\n",
              "      <td>United-States</td>\n",
              "    </tr>\n",
              "    <tr>\n",
              "      <th>26724</th>\n",
              "      <td>59</td>\n",
              "      <td>Self-emp-not-inc</td>\n",
              "      <td>148626</td>\n",
              "      <td>10th</td>\n",
              "      <td>6</td>\n",
              "      <td>Married-civ-spouse</td>\n",
              "      <td>Farming-fishing</td>\n",
              "      <td>Husband</td>\n",
              "      <td>White</td>\n",
              "      <td>Male</td>\n",
              "      <td>0</td>\n",
              "      <td>0</td>\n",
              "      <td>40</td>\n",
              "      <td>United-States</td>\n",
              "    </tr>\n",
              "  </tbody>\n",
              "</table>\n",
              "</div>\n",
              "    <div class=\"colab-df-buttons\">\n",
              "\n",
              "  <div class=\"colab-df-container\">\n",
              "    <button class=\"colab-df-convert\" onclick=\"convertToInteractive('df-526aba10-2dff-414f-be29-3ea225c83c0b')\"\n",
              "            title=\"Convert this dataframe to an interactive table.\"\n",
              "            style=\"display:none;\">\n",
              "\n",
              "  <svg xmlns=\"http://www.w3.org/2000/svg\" height=\"24px\" viewBox=\"0 -960 960 960\">\n",
              "    <path d=\"M120-120v-720h720v720H120Zm60-500h600v-160H180v160Zm220 220h160v-160H400v160Zm0 220h160v-160H400v160ZM180-400h160v-160H180v160Zm440 0h160v-160H620v160ZM180-180h160v-160H180v160Zm440 0h160v-160H620v160Z\"/>\n",
              "  </svg>\n",
              "    </button>\n",
              "\n",
              "  <style>\n",
              "    .colab-df-container {\n",
              "      display:flex;\n",
              "      gap: 12px;\n",
              "    }\n",
              "\n",
              "    .colab-df-convert {\n",
              "      background-color: #E8F0FE;\n",
              "      border: none;\n",
              "      border-radius: 50%;\n",
              "      cursor: pointer;\n",
              "      display: none;\n",
              "      fill: #1967D2;\n",
              "      height: 32px;\n",
              "      padding: 0 0 0 0;\n",
              "      width: 32px;\n",
              "    }\n",
              "\n",
              "    .colab-df-convert:hover {\n",
              "      background-color: #E2EBFA;\n",
              "      box-shadow: 0px 1px 2px rgba(60, 64, 67, 0.3), 0px 1px 3px 1px rgba(60, 64, 67, 0.15);\n",
              "      fill: #174EA6;\n",
              "    }\n",
              "\n",
              "    .colab-df-buttons div {\n",
              "      margin-bottom: 4px;\n",
              "    }\n",
              "\n",
              "    [theme=dark] .colab-df-convert {\n",
              "      background-color: #3B4455;\n",
              "      fill: #D2E3FC;\n",
              "    }\n",
              "\n",
              "    [theme=dark] .colab-df-convert:hover {\n",
              "      background-color: #434B5C;\n",
              "      box-shadow: 0px 1px 3px 1px rgba(0, 0, 0, 0.15);\n",
              "      filter: drop-shadow(0px 1px 2px rgba(0, 0, 0, 0.3));\n",
              "      fill: #FFFFFF;\n",
              "    }\n",
              "  </style>\n",
              "\n",
              "    <script>\n",
              "      const buttonEl =\n",
              "        document.querySelector('#df-526aba10-2dff-414f-be29-3ea225c83c0b button.colab-df-convert');\n",
              "      buttonEl.style.display =\n",
              "        google.colab.kernel.accessAllowed ? 'block' : 'none';\n",
              "\n",
              "      async function convertToInteractive(key) {\n",
              "        const element = document.querySelector('#df-526aba10-2dff-414f-be29-3ea225c83c0b');\n",
              "        const dataTable =\n",
              "          await google.colab.kernel.invokeFunction('convertToInteractive',\n",
              "                                                    [key], {});\n",
              "        if (!dataTable) return;\n",
              "\n",
              "        const docLinkHtml = 'Like what you see? Visit the ' +\n",
              "          '<a target=\"_blank\" href=https://colab.research.google.com/notebooks/data_table.ipynb>data table notebook</a>'\n",
              "          + ' to learn more about interactive tables.';\n",
              "        element.innerHTML = '';\n",
              "        dataTable['output_type'] = 'display_data';\n",
              "        await google.colab.output.renderOutput(dataTable, element);\n",
              "        const docLink = document.createElement('div');\n",
              "        docLink.innerHTML = docLinkHtml;\n",
              "        element.appendChild(docLink);\n",
              "      }\n",
              "    </script>\n",
              "  </div>\n",
              "\n",
              "\n",
              "<div id=\"df-7c3ab18f-ce9a-4408-b49c-11c1284de5dd\">\n",
              "  <button class=\"colab-df-quickchart\" onclick=\"quickchart('df-7c3ab18f-ce9a-4408-b49c-11c1284de5dd')\"\n",
              "            title=\"Suggest charts\"\n",
              "            style=\"display:none;\">\n",
              "\n",
              "<svg xmlns=\"http://www.w3.org/2000/svg\" height=\"24px\"viewBox=\"0 0 24 24\"\n",
              "     width=\"24px\">\n",
              "    <g>\n",
              "        <path d=\"M19 3H5c-1.1 0-2 .9-2 2v14c0 1.1.9 2 2 2h14c1.1 0 2-.9 2-2V5c0-1.1-.9-2-2-2zM9 17H7v-7h2v7zm4 0h-2V7h2v10zm4 0h-2v-4h2v4z\"/>\n",
              "    </g>\n",
              "</svg>\n",
              "  </button>\n",
              "\n",
              "<style>\n",
              "  .colab-df-quickchart {\n",
              "      --bg-color: #E8F0FE;\n",
              "      --fill-color: #1967D2;\n",
              "      --hover-bg-color: #E2EBFA;\n",
              "      --hover-fill-color: #174EA6;\n",
              "      --disabled-fill-color: #AAA;\n",
              "      --disabled-bg-color: #DDD;\n",
              "  }\n",
              "\n",
              "  [theme=dark] .colab-df-quickchart {\n",
              "      --bg-color: #3B4455;\n",
              "      --fill-color: #D2E3FC;\n",
              "      --hover-bg-color: #434B5C;\n",
              "      --hover-fill-color: #FFFFFF;\n",
              "      --disabled-bg-color: #3B4455;\n",
              "      --disabled-fill-color: #666;\n",
              "  }\n",
              "\n",
              "  .colab-df-quickchart {\n",
              "    background-color: var(--bg-color);\n",
              "    border: none;\n",
              "    border-radius: 50%;\n",
              "    cursor: pointer;\n",
              "    display: none;\n",
              "    fill: var(--fill-color);\n",
              "    height: 32px;\n",
              "    padding: 0;\n",
              "    width: 32px;\n",
              "  }\n",
              "\n",
              "  .colab-df-quickchart:hover {\n",
              "    background-color: var(--hover-bg-color);\n",
              "    box-shadow: 0 1px 2px rgba(60, 64, 67, 0.3), 0 1px 3px 1px rgba(60, 64, 67, 0.15);\n",
              "    fill: var(--button-hover-fill-color);\n",
              "  }\n",
              "\n",
              "  .colab-df-quickchart-complete:disabled,\n",
              "  .colab-df-quickchart-complete:disabled:hover {\n",
              "    background-color: var(--disabled-bg-color);\n",
              "    fill: var(--disabled-fill-color);\n",
              "    box-shadow: none;\n",
              "  }\n",
              "\n",
              "  .colab-df-spinner {\n",
              "    border: 2px solid var(--fill-color);\n",
              "    border-color: transparent;\n",
              "    border-bottom-color: var(--fill-color);\n",
              "    animation:\n",
              "      spin 1s steps(1) infinite;\n",
              "  }\n",
              "\n",
              "  @keyframes spin {\n",
              "    0% {\n",
              "      border-color: transparent;\n",
              "      border-bottom-color: var(--fill-color);\n",
              "      border-left-color: var(--fill-color);\n",
              "    }\n",
              "    20% {\n",
              "      border-color: transparent;\n",
              "      border-left-color: var(--fill-color);\n",
              "      border-top-color: var(--fill-color);\n",
              "    }\n",
              "    30% {\n",
              "      border-color: transparent;\n",
              "      border-left-color: var(--fill-color);\n",
              "      border-top-color: var(--fill-color);\n",
              "      border-right-color: var(--fill-color);\n",
              "    }\n",
              "    40% {\n",
              "      border-color: transparent;\n",
              "      border-right-color: var(--fill-color);\n",
              "      border-top-color: var(--fill-color);\n",
              "    }\n",
              "    60% {\n",
              "      border-color: transparent;\n",
              "      border-right-color: var(--fill-color);\n",
              "    }\n",
              "    80% {\n",
              "      border-color: transparent;\n",
              "      border-right-color: var(--fill-color);\n",
              "      border-bottom-color: var(--fill-color);\n",
              "    }\n",
              "    90% {\n",
              "      border-color: transparent;\n",
              "      border-bottom-color: var(--fill-color);\n",
              "    }\n",
              "  }\n",
              "</style>\n",
              "\n",
              "  <script>\n",
              "    async function quickchart(key) {\n",
              "      const quickchartButtonEl =\n",
              "        document.querySelector('#' + key + ' button');\n",
              "      quickchartButtonEl.disabled = true;  // To prevent multiple clicks.\n",
              "      quickchartButtonEl.classList.add('colab-df-spinner');\n",
              "      try {\n",
              "        const charts = await google.colab.kernel.invokeFunction(\n",
              "            'suggestCharts', [key], {});\n",
              "      } catch (error) {\n",
              "        console.error('Error during call to suggestCharts:', error);\n",
              "      }\n",
              "      quickchartButtonEl.classList.remove('colab-df-spinner');\n",
              "      quickchartButtonEl.classList.add('colab-df-quickchart-complete');\n",
              "    }\n",
              "    (() => {\n",
              "      let quickchartButtonEl =\n",
              "        document.querySelector('#df-7c3ab18f-ce9a-4408-b49c-11c1284de5dd button');\n",
              "      quickchartButtonEl.style.display =\n",
              "        google.colab.kernel.accessAllowed ? 'block' : 'none';\n",
              "    })();\n",
              "  </script>\n",
              "</div>\n",
              "\n",
              "    </div>\n",
              "  </div>\n"
            ],
            "application/vnd.google.colaboratory.intrinsic+json": {
              "type": "dataframe",
              "variable_name": "X",
              "summary": "{\n  \"name\": \"X\",\n  \"rows\": 959,\n  \"fields\": [\n    {\n      \"column\": \"age\",\n      \"properties\": {\n        \"dtype\": \"number\",\n        \"std\": 13,\n        \"min\": 17,\n        \"max\": 88,\n        \"num_unique_values\": 67,\n        \"samples\": [\n          30,\n          44,\n          59\n        ],\n        \"semantic_type\": \"\",\n        \"description\": \"\"\n      }\n    },\n    {\n      \"column\": \"workclass\",\n      \"properties\": {\n        \"dtype\": \"category\",\n        \"num_unique_values\": 8,\n        \"samples\": [\n          \"Self-emp-not-inc\",\n          \"Federal-gov\",\n          \"Private\"\n        ],\n        \"semantic_type\": \"\",\n        \"description\": \"\"\n      }\n    },\n    {\n      \"column\": \"fnlwgt\",\n      \"properties\": {\n        \"dtype\": \"number\",\n        \"std\": 100113,\n        \"min\": 22641,\n        \"max\": 981628,\n        \"num_unique_values\": 950,\n        \"samples\": [\n          194740,\n          102938,\n          247558\n        ],\n        \"semantic_type\": \"\",\n        \"description\": \"\"\n      }\n    },\n    {\n      \"column\": \"education\",\n      \"properties\": {\n        \"dtype\": \"category\",\n        \"num_unique_values\": 16,\n        \"samples\": [\n          \"HS-grad\",\n          \"Doctorate\",\n          \"Some-college\"\n        ],\n        \"semantic_type\": \"\",\n        \"description\": \"\"\n      }\n    },\n    {\n      \"column\": \"education-num\",\n      \"properties\": {\n        \"dtype\": \"number\",\n        \"std\": 2,\n        \"min\": 1,\n        \"max\": 16,\n        \"num_unique_values\": 16,\n        \"samples\": [\n          9,\n          16,\n          10\n        ],\n        \"semantic_type\": \"\",\n        \"description\": \"\"\n      }\n    },\n    {\n      \"column\": \"marital-status\",\n      \"properties\": {\n        \"dtype\": \"category\",\n        \"num_unique_values\": 6,\n        \"samples\": [\n          \"Married-civ-spouse\",\n          \"Divorced\",\n          \"Married-spouse-absent\"\n        ],\n        \"semantic_type\": \"\",\n        \"description\": \"\"\n      }\n    },\n    {\n      \"column\": \"occupation\",\n      \"properties\": {\n        \"dtype\": \"category\",\n        \"num_unique_values\": 14,\n        \"samples\": [\n          \"Sales\",\n          \"Adm-clerical\",\n          \"Protective-serv\"\n        ],\n        \"semantic_type\": \"\",\n        \"description\": \"\"\n      }\n    },\n    {\n      \"column\": \"relationship\",\n      \"properties\": {\n        \"dtype\": \"category\",\n        \"num_unique_values\": 6,\n        \"samples\": [\n          \"Husband\",\n          \"Not-in-family\",\n          \"Wife\"\n        ],\n        \"semantic_type\": \"\",\n        \"description\": \"\"\n      }\n    },\n    {\n      \"column\": \"race\",\n      \"properties\": {\n        \"dtype\": \"category\",\n        \"num_unique_values\": 5,\n        \"samples\": [\n          \"Black\",\n          \"Amer-Indian-Eskimo\",\n          \"Asian-Pac-Islander\"\n        ],\n        \"semantic_type\": \"\",\n        \"description\": \"\"\n      }\n    },\n    {\n      \"column\": \"sex\",\n      \"properties\": {\n        \"dtype\": \"category\",\n        \"num_unique_values\": 2,\n        \"samples\": [\n          \"Female\",\n          \"Male\"\n        ],\n        \"semantic_type\": \"\",\n        \"description\": \"\"\n      }\n    },\n    {\n      \"column\": \"capital-gain\",\n      \"properties\": {\n        \"dtype\": \"number\",\n        \"std\": 8110,\n        \"min\": 0,\n        \"max\": 99999,\n        \"num_unique_values\": 41,\n        \"samples\": [\n          6723,\n          7430\n        ],\n        \"semantic_type\": \"\",\n        \"description\": \"\"\n      }\n    },\n    {\n      \"column\": \"capital-loss\",\n      \"properties\": {\n        \"dtype\": \"number\",\n        \"std\": 465,\n        \"min\": 0,\n        \"max\": 2547,\n        \"num_unique_values\": 26,\n        \"samples\": [\n          1740,\n          1672\n        ],\n        \"semantic_type\": \"\",\n        \"description\": \"\"\n      }\n    },\n    {\n      \"column\": \"hours-per-week\",\n      \"properties\": {\n        \"dtype\": \"number\",\n        \"std\": 11,\n        \"min\": 3,\n        \"max\": 99,\n        \"num_unique_values\": 56,\n        \"samples\": [\n          40,\n          56\n        ],\n        \"semantic_type\": \"\",\n        \"description\": \"\"\n      }\n    },\n    {\n      \"column\": \"native-country\",\n      \"properties\": {\n        \"dtype\": \"category\",\n        \"num_unique_values\": 26,\n        \"samples\": [\n          \"Germany\",\n          \"Honduras\"\n        ],\n        \"semantic_type\": \"\",\n        \"description\": \"\"\n      }\n    }\n  ]\n}"
            }
          },
          "metadata": {},
          "execution_count": 6
        }
      ]
    },
    {
      "cell_type": "code",
      "source": [
        "# Convert the Series back to a DataFrame\n",
        "y = y.to_frame(name='income')"
      ],
      "metadata": {
        "id": "_2t5iefE4X3C"
      },
      "execution_count": null,
      "outputs": []
    },
    {
      "cell_type": "code",
      "source": [
        "y.head() # View what the target vector looks like/ensure data properly loaded"
      ],
      "metadata": {
        "colab": {
          "base_uri": "https://localhost:8080/",
          "height": 206
        },
        "id": "i4_R-A8vqxlT",
        "outputId": "31e5f2d8-3c07-4dd6-8441-da044158f8df"
      },
      "execution_count": null,
      "outputs": [
        {
          "output_type": "execute_result",
          "data": {
            "text/plain": [
              "      income\n",
              "38113  <=50K\n",
              "39214  <=50K\n",
              "44248  <=50K\n",
              "10283  <=50K\n",
              "26724  <=50K"
            ],
            "text/html": [
              "\n",
              "  <div id=\"df-65261196-3c2c-4027-a9ab-bc4d3c812a0a\" class=\"colab-df-container\">\n",
              "    <div>\n",
              "<style scoped>\n",
              "    .dataframe tbody tr th:only-of-type {\n",
              "        vertical-align: middle;\n",
              "    }\n",
              "\n",
              "    .dataframe tbody tr th {\n",
              "        vertical-align: top;\n",
              "    }\n",
              "\n",
              "    .dataframe thead th {\n",
              "        text-align: right;\n",
              "    }\n",
              "</style>\n",
              "<table border=\"1\" class=\"dataframe\">\n",
              "  <thead>\n",
              "    <tr style=\"text-align: right;\">\n",
              "      <th></th>\n",
              "      <th>income</th>\n",
              "    </tr>\n",
              "  </thead>\n",
              "  <tbody>\n",
              "    <tr>\n",
              "      <th>38113</th>\n",
              "      <td>&lt;=50K</td>\n",
              "    </tr>\n",
              "    <tr>\n",
              "      <th>39214</th>\n",
              "      <td>&lt;=50K</td>\n",
              "    </tr>\n",
              "    <tr>\n",
              "      <th>44248</th>\n",
              "      <td>&lt;=50K</td>\n",
              "    </tr>\n",
              "    <tr>\n",
              "      <th>10283</th>\n",
              "      <td>&lt;=50K</td>\n",
              "    </tr>\n",
              "    <tr>\n",
              "      <th>26724</th>\n",
              "      <td>&lt;=50K</td>\n",
              "    </tr>\n",
              "  </tbody>\n",
              "</table>\n",
              "</div>\n",
              "    <div class=\"colab-df-buttons\">\n",
              "\n",
              "  <div class=\"colab-df-container\">\n",
              "    <button class=\"colab-df-convert\" onclick=\"convertToInteractive('df-65261196-3c2c-4027-a9ab-bc4d3c812a0a')\"\n",
              "            title=\"Convert this dataframe to an interactive table.\"\n",
              "            style=\"display:none;\">\n",
              "\n",
              "  <svg xmlns=\"http://www.w3.org/2000/svg\" height=\"24px\" viewBox=\"0 -960 960 960\">\n",
              "    <path d=\"M120-120v-720h720v720H120Zm60-500h600v-160H180v160Zm220 220h160v-160H400v160Zm0 220h160v-160H400v160ZM180-400h160v-160H180v160Zm440 0h160v-160H620v160ZM180-180h160v-160H180v160Zm440 0h160v-160H620v160Z\"/>\n",
              "  </svg>\n",
              "    </button>\n",
              "\n",
              "  <style>\n",
              "    .colab-df-container {\n",
              "      display:flex;\n",
              "      gap: 12px;\n",
              "    }\n",
              "\n",
              "    .colab-df-convert {\n",
              "      background-color: #E8F0FE;\n",
              "      border: none;\n",
              "      border-radius: 50%;\n",
              "      cursor: pointer;\n",
              "      display: none;\n",
              "      fill: #1967D2;\n",
              "      height: 32px;\n",
              "      padding: 0 0 0 0;\n",
              "      width: 32px;\n",
              "    }\n",
              "\n",
              "    .colab-df-convert:hover {\n",
              "      background-color: #E2EBFA;\n",
              "      box-shadow: 0px 1px 2px rgba(60, 64, 67, 0.3), 0px 1px 3px 1px rgba(60, 64, 67, 0.15);\n",
              "      fill: #174EA6;\n",
              "    }\n",
              "\n",
              "    .colab-df-buttons div {\n",
              "      margin-bottom: 4px;\n",
              "    }\n",
              "\n",
              "    [theme=dark] .colab-df-convert {\n",
              "      background-color: #3B4455;\n",
              "      fill: #D2E3FC;\n",
              "    }\n",
              "\n",
              "    [theme=dark] .colab-df-convert:hover {\n",
              "      background-color: #434B5C;\n",
              "      box-shadow: 0px 1px 3px 1px rgba(0, 0, 0, 0.15);\n",
              "      filter: drop-shadow(0px 1px 2px rgba(0, 0, 0, 0.3));\n",
              "      fill: #FFFFFF;\n",
              "    }\n",
              "  </style>\n",
              "\n",
              "    <script>\n",
              "      const buttonEl =\n",
              "        document.querySelector('#df-65261196-3c2c-4027-a9ab-bc4d3c812a0a button.colab-df-convert');\n",
              "      buttonEl.style.display =\n",
              "        google.colab.kernel.accessAllowed ? 'block' : 'none';\n",
              "\n",
              "      async function convertToInteractive(key) {\n",
              "        const element = document.querySelector('#df-65261196-3c2c-4027-a9ab-bc4d3c812a0a');\n",
              "        const dataTable =\n",
              "          await google.colab.kernel.invokeFunction('convertToInteractive',\n",
              "                                                    [key], {});\n",
              "        if (!dataTable) return;\n",
              "\n",
              "        const docLinkHtml = 'Like what you see? Visit the ' +\n",
              "          '<a target=\"_blank\" href=https://colab.research.google.com/notebooks/data_table.ipynb>data table notebook</a>'\n",
              "          + ' to learn more about interactive tables.';\n",
              "        element.innerHTML = '';\n",
              "        dataTable['output_type'] = 'display_data';\n",
              "        await google.colab.output.renderOutput(dataTable, element);\n",
              "        const docLink = document.createElement('div');\n",
              "        docLink.innerHTML = docLinkHtml;\n",
              "        element.appendChild(docLink);\n",
              "      }\n",
              "    </script>\n",
              "  </div>\n",
              "\n",
              "\n",
              "<div id=\"df-07aca607-4ec8-4919-8049-85d1c03cef4a\">\n",
              "  <button class=\"colab-df-quickchart\" onclick=\"quickchart('df-07aca607-4ec8-4919-8049-85d1c03cef4a')\"\n",
              "            title=\"Suggest charts\"\n",
              "            style=\"display:none;\">\n",
              "\n",
              "<svg xmlns=\"http://www.w3.org/2000/svg\" height=\"24px\"viewBox=\"0 0 24 24\"\n",
              "     width=\"24px\">\n",
              "    <g>\n",
              "        <path d=\"M19 3H5c-1.1 0-2 .9-2 2v14c0 1.1.9 2 2 2h14c1.1 0 2-.9 2-2V5c0-1.1-.9-2-2-2zM9 17H7v-7h2v7zm4 0h-2V7h2v10zm4 0h-2v-4h2v4z\"/>\n",
              "    </g>\n",
              "</svg>\n",
              "  </button>\n",
              "\n",
              "<style>\n",
              "  .colab-df-quickchart {\n",
              "      --bg-color: #E8F0FE;\n",
              "      --fill-color: #1967D2;\n",
              "      --hover-bg-color: #E2EBFA;\n",
              "      --hover-fill-color: #174EA6;\n",
              "      --disabled-fill-color: #AAA;\n",
              "      --disabled-bg-color: #DDD;\n",
              "  }\n",
              "\n",
              "  [theme=dark] .colab-df-quickchart {\n",
              "      --bg-color: #3B4455;\n",
              "      --fill-color: #D2E3FC;\n",
              "      --hover-bg-color: #434B5C;\n",
              "      --hover-fill-color: #FFFFFF;\n",
              "      --disabled-bg-color: #3B4455;\n",
              "      --disabled-fill-color: #666;\n",
              "  }\n",
              "\n",
              "  .colab-df-quickchart {\n",
              "    background-color: var(--bg-color);\n",
              "    border: none;\n",
              "    border-radius: 50%;\n",
              "    cursor: pointer;\n",
              "    display: none;\n",
              "    fill: var(--fill-color);\n",
              "    height: 32px;\n",
              "    padding: 0;\n",
              "    width: 32px;\n",
              "  }\n",
              "\n",
              "  .colab-df-quickchart:hover {\n",
              "    background-color: var(--hover-bg-color);\n",
              "    box-shadow: 0 1px 2px rgba(60, 64, 67, 0.3), 0 1px 3px 1px rgba(60, 64, 67, 0.15);\n",
              "    fill: var(--button-hover-fill-color);\n",
              "  }\n",
              "\n",
              "  .colab-df-quickchart-complete:disabled,\n",
              "  .colab-df-quickchart-complete:disabled:hover {\n",
              "    background-color: var(--disabled-bg-color);\n",
              "    fill: var(--disabled-fill-color);\n",
              "    box-shadow: none;\n",
              "  }\n",
              "\n",
              "  .colab-df-spinner {\n",
              "    border: 2px solid var(--fill-color);\n",
              "    border-color: transparent;\n",
              "    border-bottom-color: var(--fill-color);\n",
              "    animation:\n",
              "      spin 1s steps(1) infinite;\n",
              "  }\n",
              "\n",
              "  @keyframes spin {\n",
              "    0% {\n",
              "      border-color: transparent;\n",
              "      border-bottom-color: var(--fill-color);\n",
              "      border-left-color: var(--fill-color);\n",
              "    }\n",
              "    20% {\n",
              "      border-color: transparent;\n",
              "      border-left-color: var(--fill-color);\n",
              "      border-top-color: var(--fill-color);\n",
              "    }\n",
              "    30% {\n",
              "      border-color: transparent;\n",
              "      border-left-color: var(--fill-color);\n",
              "      border-top-color: var(--fill-color);\n",
              "      border-right-color: var(--fill-color);\n",
              "    }\n",
              "    40% {\n",
              "      border-color: transparent;\n",
              "      border-right-color: var(--fill-color);\n",
              "      border-top-color: var(--fill-color);\n",
              "    }\n",
              "    60% {\n",
              "      border-color: transparent;\n",
              "      border-right-color: var(--fill-color);\n",
              "    }\n",
              "    80% {\n",
              "      border-color: transparent;\n",
              "      border-right-color: var(--fill-color);\n",
              "      border-bottom-color: var(--fill-color);\n",
              "    }\n",
              "    90% {\n",
              "      border-color: transparent;\n",
              "      border-bottom-color: var(--fill-color);\n",
              "    }\n",
              "  }\n",
              "</style>\n",
              "\n",
              "  <script>\n",
              "    async function quickchart(key) {\n",
              "      const quickchartButtonEl =\n",
              "        document.querySelector('#' + key + ' button');\n",
              "      quickchartButtonEl.disabled = true;  // To prevent multiple clicks.\n",
              "      quickchartButtonEl.classList.add('colab-df-spinner');\n",
              "      try {\n",
              "        const charts = await google.colab.kernel.invokeFunction(\n",
              "            'suggestCharts', [key], {});\n",
              "      } catch (error) {\n",
              "        console.error('Error during call to suggestCharts:', error);\n",
              "      }\n",
              "      quickchartButtonEl.classList.remove('colab-df-spinner');\n",
              "      quickchartButtonEl.classList.add('colab-df-quickchart-complete');\n",
              "    }\n",
              "    (() => {\n",
              "      let quickchartButtonEl =\n",
              "        document.querySelector('#df-07aca607-4ec8-4919-8049-85d1c03cef4a button');\n",
              "      quickchartButtonEl.style.display =\n",
              "        google.colab.kernel.accessAllowed ? 'block' : 'none';\n",
              "    })();\n",
              "  </script>\n",
              "</div>\n",
              "\n",
              "    </div>\n",
              "  </div>\n"
            ],
            "application/vnd.google.colaboratory.intrinsic+json": {
              "type": "dataframe",
              "variable_name": "y",
              "summary": "{\n  \"name\": \"y\",\n  \"rows\": 959,\n  \"fields\": [\n    {\n      \"column\": \"income\",\n      \"properties\": {\n        \"dtype\": \"category\",\n        \"num_unique_values\": 2,\n        \"samples\": [\n          \">50K\",\n          \"<=50K\"\n        ],\n        \"semantic_type\": \"\",\n        \"description\": \"\"\n      }\n    }\n  ]\n}"
            }
          },
          "metadata": {},
          "execution_count": 8
        }
      ]
    },
    {
      "cell_type": "code",
      "source": [
        "#Drop column because too many unique values and dataset does not encompass all unique data. Gives a value unrecognized error if handle_unknown=ignore is not set.\n",
        "X = X.drop('native-country', axis=1)"
      ],
      "metadata": {
        "id": "Ck9_y-Fo5Wou"
      },
      "execution_count": null,
      "outputs": []
    },
    {
      "cell_type": "code",
      "source": [
        "# Print # of unique values per feature\n",
        "for feature in X:\n",
        "  print(f\"Feature: {feature} | Number of Unique Values: {len(X[feature].unique())}\")\n",
        "\n",
        "# Print # of unique values for target (classification decisions)\n",
        "print(f\"\\ny: income | Number of Unique Values: {len(y['income'].unique())}\")\n",
        "print(f\"y Unique Values: {y['income'].unique()}\")"
      ],
      "metadata": {
        "colab": {
          "base_uri": "https://localhost:8080/"
        },
        "id": "DdVba9yi62EX",
        "outputId": "3385cd2a-ced1-419c-8426-3516c1ebb8c1"
      },
      "execution_count": null,
      "outputs": [
        {
          "output_type": "stream",
          "name": "stdout",
          "text": [
            "Feature: age | Number of Unique Values: 67\n",
            "Feature: workclass | Number of Unique Values: 8\n",
            "Feature: fnlwgt | Number of Unique Values: 950\n",
            "Feature: education | Number of Unique Values: 16\n",
            "Feature: education-num | Number of Unique Values: 16\n",
            "Feature: marital-status | Number of Unique Values: 6\n",
            "Feature: occupation | Number of Unique Values: 14\n",
            "Feature: relationship | Number of Unique Values: 6\n",
            "Feature: race | Number of Unique Values: 5\n",
            "Feature: sex | Number of Unique Values: 2\n",
            "Feature: capital-gain | Number of Unique Values: 41\n",
            "Feature: capital-loss | Number of Unique Values: 26\n",
            "Feature: hours-per-week | Number of Unique Values: 56\n",
            "\n",
            "y: income | Number of Unique Values: 2\n",
            "y Unique Values: ['<=50K' '>50K']\n"
          ]
        }
      ]
    },
    {
      "cell_type": "code",
      "source": [
        "# Filter to include only categorical columns\n",
        "categorical_columns = X.select_dtypes(include=['object']).columns\n",
        "\n",
        "# Visualization of unique values per categorical feature in X\n",
        "sns.barplot(x=X[categorical_columns].nunique(), y=categorical_columns)\n",
        "plt.title('Unique Values per Categorical Feature')\n",
        "plt.xlabel('Number of Unique Values')\n",
        "plt.ylabel('Features')\n",
        "plt.show()"
      ],
      "metadata": {
        "colab": {
          "base_uri": "https://localhost:8080/",
          "height": 472
        },
        "id": "6q-g_QvrsBAs",
        "outputId": "40d98ccc-7166-4c65-9564-49d4257f869e"
      },
      "execution_count": null,
      "outputs": [
        {
          "output_type": "display_data",
          "data": {
            "text/plain": [
              "<Figure size 640x480 with 1 Axes>"
            ],
            "image/png": "[encoded data removed]"
          },
          "metadata": {}
        }
      ]
    },
    {
      "cell_type": "markdown",
      "source": [
        "What are the column data types?"
      ],
      "metadata": {
        "id": "JBXlM4fTAaB3"
      }
    },
    {
      "cell_type": "code",
      "source": [
        "print(X.dtypes)\n",
        "print(y.dtypes)"
      ],
      "metadata": {
        "colab": {
          "base_uri": "https://localhost:8080/"
        },
        "id": "TG7QJcCekhBp",
        "outputId": "b1449c19-23f4-4e05-8739-8be8c2200712"
      },
      "execution_count": null,
      "outputs": [
        {
          "output_type": "stream",
          "name": "stdout",
          "text": [
            "age                int64\n",
            "workclass         object\n",
            "fnlwgt             int64\n",
            "education         object\n",
            "education-num      int64\n",
            "marital-status    object\n",
            "occupation        object\n",
            "relationship      object\n",
            "race              object\n",
            "sex               object\n",
            "capital-gain       int64\n",
            "capital-loss       int64\n",
            "hours-per-week     int64\n",
            "dtype: object\n",
            "income    object\n",
            "dtype: object\n"
          ]
        }
      ]
    },
    {
      "cell_type": "code",
      "source": [
        "# Checking the different unique values for a sample column\n",
        "unique_values = X['marital-status'].unique()\n",
        "\n",
        "# To print the unique values\n",
        "print(unique_values)"
      ],
      "metadata": {
        "colab": {
          "base_uri": "https://localhost:8080/"
        },
        "id": "XD1tq51_04Pg",
        "outputId": "bafa72a0-7972-4edf-af96-203c4dcde71b"
      },
      "execution_count": null,
      "outputs": [
        {
          "output_type": "stream",
          "name": "stdout",
          "text": [
            "['Married-civ-spouse' 'Divorced' 'Never-married' 'Widowed' 'Separated'\n",
            " 'Married-spouse-absent']\n"
          ]
        }
      ]
    },
    {
      "cell_type": "markdown",
      "source": [
        "#### Encoding/Scaling"
      ],
      "metadata": {
        "id": "qlOoIwRrVkZR"
      }
    },
    {
      "cell_type": "markdown",
      "source": [
        "Additionally, the target vector is of binary type but needs to be converted to 1s and 0s."
      ],
      "metadata": {
        "id": "NlCEDlM2lI9g"
      }
    },
    {
      "cell_type": "code",
      "source": [
        "# Initialize `LabelEncoder` from `sklearn.preprocessing` and apply it to encode the `y['income']` column,\n",
        "# converting categories '<=50K' and '>50K' into numerical values `0` and `1`, respectively, stored in `y_encoded`.\n",
        "from sklearn.preprocessing import LabelEncoder\n",
        "\n",
        "# Initialize the encoder\n",
        "encoder = LabelEncoder()\n",
        "\n",
        "# Fit and transform the target variable\n",
        "y_encoded = encoder.fit_transform(y['income'])\n",
        "\n",
        "# y_encoded now contains 0 and 1 corresponding to '<=50K' and '>50K'"
      ],
      "metadata": {
        "id": "Uy5EXVGJrqSN"
      },
      "execution_count": null,
      "outputs": []
    },
    {
      "cell_type": "markdown",
      "source": [
        "Moving on to the next step. In this dataset, most features are categorical, so they need to be encoded. We will use `OneHotEncoder(sparse_output=False)` for this case. Some features are numerical so we will use `StandardScaler()` for this case."
      ],
      "metadata": {
        "id": "dL_yt0GJFIbi"
      }
    },
    {
      "cell_type": "code",
      "source": [
        "# Initialize a ColumnTransformer to apply different preprocessing to different columns:\n",
        "ct = ColumnTransformer(\n",
        "    [\n",
        "        # Apply StandardScaler to all columns that are not of object type (i.e., numerical columns)\n",
        "        # for scaling them to a standard scale.\n",
        "        (\"scaling\", StandardScaler(), make_column_selector(dtype_exclude=object)),\n",
        "\n",
        "        # Apply OneHotEncoder to all object type columns (i.e., categorical columns) to convert\n",
        "        # them into one-hot encoded vectors. The `sparse_output=False` ensures the output is a dense array.\n",
        "        # `handle_unknown='ignore'` allows the encoder to handle any unseen categories in the test data\n",
        "        # by ignoring them rather than throwing an error.\n",
        "        (\"onehot\", OneHotEncoder(sparse_output=False, handle_unknown='ignore'), make_column_selector(dtype_include=object))\n",
        "    ])"
      ],
      "metadata": {
        "id": "QlgyZdXtFUF8"
      },
      "execution_count": null,
      "outputs": []
    },
    {
      "cell_type": "markdown",
      "source": [
        "The next step is to build a pipleine to combine the coding with the selected Machine Learning method. To initalize the pipeline, we will use `LogisticRegression(max_iter=3500)` as a placeholder.\n",
        "\n",
        "The value of max_iter=3500 for the Logistic Regression classifier was established through an empirical process, where different iteration counts were systematically evaluated. This approach involved running the model multiple times, each with a distinct max_iter value, to observe the effect on the model's convergence and performance metrics. The aim was to find a balance between computational efficiency and model accuracy, ensuring that the algorithm had sufficient iterations to converge on the best solution without unnecessarily extending processing time."
      ],
      "metadata": {
        "id": "q4mNHw7OFqPj"
      }
    },
    {
      "cell_type": "code",
      "source": [
        "# Define a pipeline that first preprocesses data with Column Transformer and then applies Logistic Regression as the classifier.\n",
        "pipe = Pipeline(steps=[('preprocessor', ct),\n",
        "                      ('classifier', LogisticRegression(max_iter=3500))])"
      ],
      "metadata": {
        "id": "ZfF8LJboF139"
      },
      "execution_count": null,
      "outputs": []
    },
    {
      "cell_type": "code",
      "source": [
        "set_config(display='diagram')\n",
        "pipe"
      ],
      "metadata": {
        "colab": {
          "base_uri": "https://localhost:8080/",
          "height": 192
        },
        "id": "eFmD6no0GEjm",
        "outputId": "77e42830-6675-43cc-c173-109ffaa1ba98"
      },
      "execution_count": null,
      "outputs": [
        {
          "output_type": "execute_result",
          "data": {
            "text/plain": [
              "Pipeline(steps=[('preprocessor',\n",
              "                 ColumnTransformer(transformers=[('scaling', StandardScaler(),\n",
              "                                                  <sklearn.compose._column_transformer.make_column_selector object at 0x7b1023ddd6f0>),\n",
              "                                                 ('onehot',\n",
              "                                                  OneHotEncoder(handle_unknown='ignore',\n",
              "                                                                sparse_output=False),\n",
              "                                                  <sklearn.compose._column_transformer.make_column_selector object at 0x7b1023dde5c0>)])),\n",
              "                ('classifier', LogisticRegression(max_iter=3500))])"
            ],
            "text/html": [
              "<style>#sk-container-id-1 {color: black;background-color: white;}#sk-container-id-1 pre{padding: 0;}#sk-container-id-1 div.sk-toggleable {background-color: white;}#sk-container-id-1 label.sk-toggleable__label {cursor: pointer;display: block;width: 100%;margin-bottom: 0;padding: 0.3em;box-sizing: border-box;text-align: center;}#sk-container-id-1 label.sk-toggleable__label-arrow:before {content: \"▸\";float: left;margin-right: 0.25em;color: #696969;}#sk-container-id-1 label.sk-toggleable__label-arrow:hover:before {color: black;}#sk-container-id-1 div.sk-estimator:hover label.sk-toggleable__label-arrow:before {color: black;}#sk-container-id-1 div.sk-toggleable__content {max-height: 0;max-width: 0;overflow: hidden;text-align: left;background-color: #f0f8ff;}#sk-container-id-1 div.sk-toggleable__content pre {margin: 0.2em;color: black;border-radius: 0.25em;background-color: #f0f8ff;}#sk-container-id-1 input.sk-toggleable__control:checked~div.sk-toggleable__content {max-height: 200px;max-width: 100%;overflow: auto;}#sk-container-id-1 input.sk-toggleable__control:checked~label.sk-toggleable__label-arrow:before {content: \"▾\";}#sk-container-id-1 div.sk-estimator input.sk-toggleable__control:checked~label.sk-toggleable__label {background-color: #d4ebff;}#sk-container-id-1 div.sk-label input.sk-toggleable__control:checked~label.sk-toggleable__label {background-color: #d4ebff;}#sk-container-id-1 input.sk-hidden--visually {border: 0;clip: rect(1px 1px 1px 1px);clip: rect(1px, 1px, 1px, 1px);height: 1px;margin: -1px;overflow: hidden;padding: 0;position: absolute;width: 1px;}#sk-container-id-1 div.sk-estimator {font-family: monospace;background-color: #f0f8ff;border: 1px dotted black;border-radius: 0.25em;box-sizing: border-box;margin-bottom: 0.5em;}#sk-container-id-1 div.sk-estimator:hover {background-color: #d4ebff;}#sk-container-id-1 div.sk-parallel-item::after {content: \"\";width: 100%;border-bottom: 1px solid gray;flex-grow: 1;}#sk-container-id-1 div.sk-label:hover label.sk-toggleable__label {background-color: #d4ebff;}#sk-container-id-1 div.sk-serial::before {content: \"\";position: absolute;border-left: 1px solid gray;box-sizing: border-box;top: 0;bottom: 0;left: 50%;z-index: 0;}#sk-container-id-1 div.sk-serial {display: flex;flex-direction: column;align-items: center;background-color: white;padding-right: 0.2em;padding-left: 0.2em;position: relative;}#sk-container-id-1 div.sk-item {position: relative;z-index: 1;}#sk-container-id-1 div.sk-parallel {display: flex;align-items: stretch;justify-content: center;background-color: white;position: relative;}#sk-container-id-1 div.sk-item::before, #sk-container-id-1 div.sk-parallel-item::before {content: \"\";position: absolute;border-left: 1px solid gray;box-sizing: border-box;top: 0;bottom: 0;left: 50%;z-index: -1;}#sk-container-id-1 div.sk-parallel-item {display: flex;flex-direction: column;z-index: 1;position: relative;background-color: white;}#sk-container-id-1 div.sk-parallel-item:first-child::after {align-self: flex-end;width: 50%;}#sk-container-id-1 div.sk-parallel-item:last-child::after {align-self: flex-start;width: 50%;}#sk-container-id-1 div.sk-parallel-item:only-child::after {width: 0;}#sk-container-id-1 div.sk-dashed-wrapped {border: 1px dashed gray;margin: 0 0.4em 0.5em 0.4em;box-sizing: border-box;padding-bottom: 0.4em;background-color: white;}#sk-container-id-1 div.sk-label label {font-family: monospace;font-weight: bold;display: inline-block;line-height: 1.2em;}#sk-container-id-1 div.sk-label-container {text-align: center;}#sk-container-id-1 div.sk-container {/* jupyter's `normalize.less` sets `[hidden] { display: none; }` but bootstrap.min.css set `[hidden] { display: none !important; }` so we also need the `!important` here to be able to override the default hidden behavior on the sphinx rendered scikit-learn.org. See: https://github.com/scikit-learn/scikit-learn/issues/21755 */display: inline-block !important;position: relative;}#sk-container-id-1 div.sk-text-repr-fallback {display: none;}</style><div id=\"sk-container-id-1\" class=\"sk-top-container\"><div class=\"sk-text-repr-fallback\"><pre>Pipeline(steps=[(&#x27;preprocessor&#x27;,\n",
              "                 ColumnTransformer(transformers=[(&#x27;scaling&#x27;, StandardScaler(),\n",
              "                                                  &lt;sklearn.compose._column_transformer.make_column_selector object at 0x7b1023ddd6f0&gt;),\n",
              "                                                 (&#x27;onehot&#x27;,\n",
              "                                                  OneHotEncoder(handle_unknown=&#x27;ignore&#x27;,\n",
              "                                                                sparse_output=False),\n",
              "                                                  &lt;sklearn.compose._column_transformer.make_column_selector object at 0x7b1023dde5c0&gt;)])),\n",
              "                (&#x27;classifier&#x27;, LogisticRegression(max_iter=3500))])</pre><b>In a Jupyter environment, please rerun this cell to show the HTML representation or trust the notebook. <br />On GitHub, the HTML representation is unable to render, please try loading this page with nbviewer.org.</b></div><div class=\"sk-container\" hidden><div class=\"sk-item sk-dashed-wrapped\"><div class=\"sk-label-container\"><div class=\"sk-label sk-toggleable\"><input class=\"sk-toggleable__control sk-hidden--visually\" id=\"sk-estimator-id-1\" type=\"checkbox\" ><label for=\"sk-estimator-id-1\" class=\"sk-toggleable__label sk-toggleable__label-arrow\">Pipeline</label><div class=\"sk-toggleable__content\"><pre>Pipeline(steps=[(&#x27;preprocessor&#x27;,\n",
              "                 ColumnTransformer(transformers=[(&#x27;scaling&#x27;, StandardScaler(),\n",
              "                                                  &lt;sklearn.compose._column_transformer.make_column_selector object at 0x7b1023ddd6f0&gt;),\n",
              "                                                 (&#x27;onehot&#x27;,\n",
              "                                                  OneHotEncoder(handle_unknown=&#x27;ignore&#x27;,\n",
              "                                                                sparse_output=False),\n",
              "                                                  &lt;sklearn.compose._column_transformer.make_column_selector object at 0x7b1023dde5c0&gt;)])),\n",
              "                (&#x27;classifier&#x27;, LogisticRegression(max_iter=3500))])</pre></div></div></div><div class=\"sk-serial\"><div class=\"sk-item sk-dashed-wrapped\"><div class=\"sk-label-container\"><div class=\"sk-label sk-toggleable\"><input class=\"sk-toggleable__control sk-hidden--visually\" id=\"sk-estimator-id-2\" type=\"checkbox\" ><label for=\"sk-estimator-id-2\" class=\"sk-toggleable__label sk-toggleable__label-arrow\">preprocessor: ColumnTransformer</label><div class=\"sk-toggleable__content\"><pre>ColumnTransformer(transformers=[(&#x27;scaling&#x27;, StandardScaler(),\n",
              "                                 &lt;sklearn.compose._column_transformer.make_column_selector object at 0x7b1023ddd6f0&gt;),\n",
              "                                (&#x27;onehot&#x27;,\n",
              "                                 OneHotEncoder(handle_unknown=&#x27;ignore&#x27;,\n",
              "                                               sparse_output=False),\n",
              "                                 &lt;sklearn.compose._column_transformer.make_column_selector object at 0x7b1023dde5c0&gt;)])</pre></div></div></div><div class=\"sk-parallel\"><div class=\"sk-parallel-item\"><div class=\"sk-item\"><div class=\"sk-label-container\"><div class=\"sk-label sk-toggleable\"><input class=\"sk-toggleable__control sk-hidden--visually\" id=\"sk-estimator-id-3\" type=\"checkbox\" ><label for=\"sk-estimator-id-3\" class=\"sk-toggleable__label sk-toggleable__label-arrow\">scaling</label><div class=\"sk-toggleable__content\"><pre>&lt;sklearn.compose._column_transformer.make_column_selector object at 0x7b1023ddd6f0&gt;</pre></div></div></div><div class=\"sk-serial\"><div class=\"sk-item\"><div class=\"sk-estimator sk-toggleable\"><input class=\"sk-toggleable__control sk-hidden--visually\" id=\"sk-estimator-id-4\" type=\"checkbox\" ><label for=\"sk-estimator-id-4\" class=\"sk-toggleable__label sk-toggleable__label-arrow\">StandardScaler</label><div class=\"sk-toggleable__content\"><pre>StandardScaler()</pre></div></div></div></div></div></div><div class=\"sk-parallel-item\"><div class=\"sk-item\"><div class=\"sk-label-container\"><div class=\"sk-label sk-toggleable\"><input class=\"sk-toggleable__control sk-hidden--visually\" id=\"sk-estimator-id-5\" type=\"checkbox\" ><label for=\"sk-estimator-id-5\" class=\"sk-toggleable__label sk-toggleable__label-arrow\">onehot</label><div class=\"sk-toggleable__content\"><pre>&lt;sklearn.compose._column_transformer.make_column_selector object at 0x7b1023dde5c0&gt;</pre></div></div></div><div class=\"sk-serial\"><div class=\"sk-item\"><div class=\"sk-estimator sk-toggleable\"><input class=\"sk-toggleable__control sk-hidden--visually\" id=\"sk-estimator-id-6\" type=\"checkbox\" ><label for=\"sk-estimator-id-6\" class=\"sk-toggleable__label sk-toggleable__label-arrow\">OneHotEncoder</label><div class=\"sk-toggleable__content\"><pre>OneHotEncoder(handle_unknown=&#x27;ignore&#x27;, sparse_output=False)</pre></div></div></div></div></div></div></div></div><div class=\"sk-item\"><div class=\"sk-estimator sk-toggleable\"><input class=\"sk-toggleable__control sk-hidden--visually\" id=\"sk-estimator-id-7\" type=\"checkbox\" ><label for=\"sk-estimator-id-7\" class=\"sk-toggleable__label sk-toggleable__label-arrow\">LogisticRegression</label><div class=\"sk-toggleable__content\"><pre>LogisticRegression(max_iter=3500)</pre></div></div></div></div></div></div></div>"
            ]
          },
          "metadata": {},
          "execution_count": 17
        }
      ]
    },
    {
      "cell_type": "markdown",
      "source": [
        "### 2.3 Data Splitting\n",
        "\n",
        "Split data into training and test sets."
      ],
      "metadata": {
        "id": "pr48IT3xPEf4"
      }
    },
    {
      "cell_type": "code",
      "source": [
        "# Split the data into training and testing sets, ensuring an even distribution of classes with stratification and a fixed random state for reproducibility.\n",
        "# Have a 80/20 split for training/testing as is standard.\n",
        "X_train, X_test, y_train, y_test = train_test_split(X, y_encoded, test_size=0.2, stratify=y_encoded, random_state=0)"
      ],
      "metadata": {
        "id": "_7AGfICLGRBz"
      },
      "execution_count": null,
      "outputs": []
    },
    {
      "cell_type": "markdown",
      "source": [
        "### 2.4 Model Selection"
      ],
      "metadata": {
        "id": "T75BIZXDPYq7"
      }
    },
    {
      "cell_type": "markdown",
      "source": [
        "This parameter grid is prepared for a grid search, specifying configurations for tuning three different classifiers: Logistic Regression, K-Nearest Neighbors, and Support Vector Classifier. Each classifier has its set of parameters to explore, including regularization strength (`C`), penalty type, solver for Logistic Regression, number of neighbors for K-Nearest Neighbors, and kernel type for Support Vector Classifier."
      ],
      "metadata": {
        "id": "8OzlcxWemw3-"
      }
    },
    {
      "cell_type": "code",
      "source": [
        "# TODO: Build a parameter grid\n",
        "param_grid = [\n",
        "    {\n",
        "        \"classifier\": [LogisticRegression(max_iter=3500)],\n",
        "        \"classifier__C\": [0.1, 1, 10],\n",
        "        \"classifier__penalty\": [\"l1\"],  # Use 'l1' penalty\n",
        "        \"classifier__solver\": [\"liblinear\", \"saga\"],  # Choose an appropriate solver\n",
        "    },\n",
        "    {\n",
        "        \"classifier\": [KNeighborsClassifier()],\n",
        "        \"classifier__n_neighbors\": [3, 5, 7],\n",
        "    },\n",
        "    {\n",
        "        \"classifier\": [SVC()],\n",
        "        \"classifier__C\": [0.1, 1, 10],\n",
        "        \"classifier__kernel\": [\"linear\", \"rbf\"],\n",
        "    },\n",
        "]"
      ],
      "metadata": {
        "id": "V7FXoVps1u3r"
      },
      "execution_count": null,
      "outputs": []
    },
    {
      "cell_type": "code",
      "source": [
        "# Implement grid search\n",
        "grid_search = GridSearchCV(pipe, param_grid, cv=5, return_train_score=True)"
      ],
      "metadata": {
        "id": "PlA48TxM1y4k"
      },
      "execution_count": null,
      "outputs": []
    },
    {
      "cell_type": "code",
      "source": [
        "# Print the results from the grid search\n",
        "grid_search.fit(X_train, y_train)\n",
        "\n",
        "print(\"Best Parameters:\\n{}\\n\".format(grid_search.best_params_))\n",
        "print(\"Best Cross-Validation Train Score: {:.2f}\".format(grid_search.cv_results_['mean_train_score'][grid_search.best_index_]))\n",
        "print(\"Best Cross-Validation Test Score: {:.2f}\".format(grid_search.best_score_))\n",
        "print(\"Test-set score: {:.2f}\".format(grid_search.score(X_test, y_test)))"
      ],
      "metadata": {
        "colab": {
          "base_uri": "https://localhost:8080/"
        },
        "id": "SUcWygu615hb",
        "outputId": "4d942a80-0cae-4c18-cf71-f91de48ae961"
      },
      "execution_count": null,
      "outputs": [
        {
          "output_type": "stream",
          "name": "stdout",
          "text": [
            "Best Parameters:\n",
            "{'classifier': SVC(C=1), 'classifier__C': 1, 'classifier__kernel': 'rbf'}\n",
            "\n",
            "Best Cross-Validation Train Score: 0.89\n",
            "Best Cross-Validation Test Score: 0.86\n",
            "Test-set score: 0.86\n"
          ]
        }
      ]
    },
    {
      "cell_type": "code",
      "source": [
        "results = grid_search.cv_results_\n",
        "\n",
        "# Example: Extract mean test scores and parameters\n",
        "for mean_score, params in zip(results['mean_test_score'], results['params']):\n",
        "    print(mean_score, params)"
      ],
      "metadata": {
        "colab": {
          "base_uri": "https://localhost:8080/"
        },
        "id": "AzCkET7OJ_dK",
        "outputId": "e0ef3600-6199-4d59-953e-c2acf6d6b4d7"
      },
      "execution_count": null,
      "outputs": [
        {
          "output_type": "stream",
          "name": "stdout",
          "text": [
            "0.8500551735845854 {'classifier': LogisticRegression(max_iter=3500), 'classifier__C': 0.1, 'classifier__penalty': 'l1', 'classifier__solver': 'liblinear'}\n",
            "0.8513708513708513 {'classifier': LogisticRegression(max_iter=3500), 'classifier__C': 0.1, 'classifier__penalty': 'l1', 'classifier__solver': 'saga'}\n",
            "0.8540022069433834 {'classifier': LogisticRegression(max_iter=3500), 'classifier__C': 1, 'classifier__penalty': 'l1', 'classifier__solver': 'liblinear'}\n",
            "0.8526950174008997 {'classifier': LogisticRegression(max_iter=3500), 'classifier__C': 1, 'classifier__penalty': 'l1', 'classifier__solver': 'saga'}\n",
            "0.8475256769374416 {'classifier': LogisticRegression(max_iter=3500), 'classifier__C': 10, 'classifier__penalty': 'l1', 'classifier__solver': 'liblinear'}\n",
            "0.8501230795348442 {'classifier': LogisticRegression(max_iter=3500), 'classifier__C': 10, 'classifier__penalty': 'l1', 'classifier__solver': 'saga'}\n",
            "0.8174603174603176 {'classifier': KNeighborsClassifier(), 'classifier__n_neighbors': 3}\n",
            "0.8226636108989052 {'classifier': KNeighborsClassifier(), 'classifier__n_neighbors': 5}\n",
            "0.8148374501315677 {'classifier': KNeighborsClassifier(), 'classifier__n_neighbors': 7}\n",
            "0.8526950174008997 {'classifier': SVC(C=1), 'classifier__C': 0.1, 'classifier__kernel': 'linear'}\n",
            "0.7522790934555641 {'classifier': SVC(C=1), 'classifier__C': 0.1, 'classifier__kernel': 'rbf'}\n",
            "0.846193022663611 {'classifier': SVC(C=1), 'classifier__C': 1, 'classifier__kernel': 'linear'}\n",
            "0.8565826330532212 {'classifier': SVC(C=1), 'classifier__C': 1, 'classifier__kernel': 'rbf'}\n",
            "0.84227145403616 {'classifier': SVC(C=1), 'classifier__C': 10, 'classifier__kernel': 'linear'}\n",
            "0.825294966471437 {'classifier': SVC(C=1), 'classifier__C': 10, 'classifier__kernel': 'rbf'}\n"
          ]
        }
      ]
    },
    {
      "cell_type": "markdown",
      "source": [
        "###2.5 Visualization & Analysis"
      ],
      "metadata": {
        "id": "xfK3NwkWP5Ma"
      }
    },
    {
      "cell_type": "markdown",
      "source": [
        "#### Visualize Grid Search Results"
      ],
      "metadata": {
        "id": "5RftqCbhVs7t"
      }
    },
    {
      "cell_type": "code",
      "source": [
        "import matplotlib.pyplot as plt\n",
        "import seaborn as sns\n",
        "import pandas as pd\n",
        "\n",
        "# Given results, create a DataFrame for visualization\n",
        "results = [\n",
        "    (0.8500551735845854, 'Logistic Regression', 'C=0.1, penalty=l1, solver=liblinear'),\n",
        "    (0.8513708513708513, 'Logistic Regression', 'C=0.1, penalty=l1, solver=saga'),\n",
        "    (0.8540022069433834, 'Logistic Regression', 'C=1, penalty=l1, solver=liblinear'),\n",
        "    (0.8526950174008997, 'Logistic Regression', 'C=1, penalty=l1, solver=saga'),\n",
        "    (0.8475256769374416, 'Logistic Regression', 'C=10, penalty=l1, solver=liblinear'),\n",
        "    (0.8501230795348442, 'Logistic Regression', 'C=10, penalty=l1, solver=saga'),\n",
        "    (0.8174603174603176, 'KNN', 'n_neighbors=3'),\n",
        "    (0.8226636108989052, 'KNN', 'n_neighbors=5'),\n",
        "    (0.8148374501315677, 'KNN', 'n_neighbors=7'),\n",
        "    (0.8526950174008997, 'SVC', 'C=0.1, kernel=linear'),\n",
        "    (0.7522790934555641, 'SVC', 'C=0.1, kernel=rbf'),\n",
        "    (0.846193022663611, 'SVC', 'C=1, kernel=linear'),\n",
        "    (0.8565826330532212, 'SVC', 'C=1, kernel=rbf'),\n",
        "    (0.84227145403616, 'SVC', 'C=10, kernel=linear'),\n",
        "    (0.825294966471437, 'SVC', 'C=10, kernel=rbf')\n",
        "]\n",
        "\n",
        "df_results = pd.DataFrame(results, columns=['Mean Test Score', 'Model', 'Configuration'])\n",
        "\n",
        "# Plotting all results with Seaborn's barplot\n",
        "plt.figure(figsize=(12, 10))\n",
        "barplot = sns.barplot(x='Mean Test Score', y='Configuration', hue='Model', data=df_results, dodge=False)\n",
        "\n",
        "# Improve the aesthetics\n",
        "plt.title('Grid Search Results for Model Configurations', fontsize=16)\n",
        "plt.xlabel('Mean Test Score', fontsize=14)\n",
        "plt.ylabel('Model Configuration', fontsize=14)\n",
        "plt.legend(title='Model')\n",
        "\n",
        "# Annotate the mean test scores on top of the bars for better readability\n",
        "for p in barplot.patches:\n",
        "    width = p.get_width()\n",
        "    plt.text(p.get_x() + width + 0.01, p.get_y() + p.get_height() / 2,\n",
        "             '{:1.3f}'.format(p.get_width()), ha='left', va='center')\n",
        "\n",
        "plt.tight_layout()\n",
        "plt.show()"
      ],
      "metadata": {
        "colab": {
          "base_uri": "https://localhost:8080/",
          "height": 1000
        },
        "id": "Hukb1ZQ3sfpX",
        "outputId": "6dd13468-ab60-4bff-c7c8-998e7e736594"
      },
      "execution_count": null,
      "outputs": [
        {
          "output_type": "display_data",
          "data": {
            "text/plain": [
              "<Figure size 1200x1000 with 1 Axes>"
            ],
            "image/png": "[encoded data removed]"
          },
          "metadata": {}
        }
      ]
    },
    {
      "cell_type": "markdown",
      "source": [
        "#### Confusion Matrix"
      ],
      "metadata": {
        "id": "-TdXgVekVwPG"
      }
    },
    {
      "cell_type": "code",
      "source": [
        "# Recall a Confusion Matrix follows the following format:\n",
        "mglearn.plots.plot_binary_confusion_matrix()\n",
        "plt.show()"
      ],
      "metadata": {
        "colab": {
          "base_uri": "https://localhost:8080/",
          "height": 436
        },
        "id": "o1ZtU6aoTxtp",
        "outputId": "09f4e886-4b6c-48a4-e704-7de6496493b8"
      },
      "execution_count": null,
      "outputs": [
        {
          "output_type": "display_data",
          "data": {
            "text/plain": [
              "<Figure size 640x480 with 1 Axes>"
            ],
            "image/png": "[encoded data removed]"
          },
          "metadata": {}
        }
      ]
    },
    {
      "cell_type": "code",
      "source": [
        "# Find the prediction labels or scores to be used for Confusion Matrix below\n",
        "y_pred = grid_search.predict(X_test)"
      ],
      "metadata": {
        "id": "Z1U-yl7QMnHh"
      },
      "execution_count": null,
      "outputs": []
    },
    {
      "cell_type": "code",
      "source": [
        "# Assuming y_test is your true labels and y_pred is the predicted labels from one of your models\n",
        "# Calculate confusion matrix for one model as an example\n",
        "cm = confusion_matrix(y_test, y_pred)\n",
        "tn, fp, fn, tp = confusion_matrix(y_test, y_pred).ravel()\n",
        "\n",
        "tick_labels = ['<=50K', '>50K']\n",
        "\n",
        "# Plotting confusion matrix\n",
        "disp = ConfusionMatrixDisplay(confusion_matrix=cm, display_labels=tick_labels)\n",
        "disp.plot(cmap=plt.cm.Blues)\n",
        "plt.title('Confusion Matrix')\n",
        "plt.show()\n"
      ],
      "metadata": {
        "colab": {
          "base_uri": "https://localhost:8080/",
          "height": 472
        },
        "id": "nZLCN_CbI9Fv",
        "outputId": "b848179b-37f8-4165-9e8a-0cbb6085dbb3"
      },
      "execution_count": null,
      "outputs": [
        {
          "output_type": "display_data",
          "data": {
            "text/plain": [
              "<Figure size 640x480 with 2 Axes>"
            ],
            "image/png": "[encoded data removed]"
          },
          "metadata": {}
        }
      ]
    },
    {
      "cell_type": "markdown",
      "source": [
        "#### Visualize Classification Report (Classification Metrics)"
      ],
      "metadata": {
        "id": "O8L3cRghVCrx"
      }
    },
    {
      "cell_type": "markdown",
      "source": [
        "\n",
        "\n",
        "![Confusion-matrix-Precision-Recall-Accuracy-and-F1-score.png](data:image/png;base64,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)"
      ],
      "metadata": {
        "id": "i30OawY7V78J"
      }
    },
    {
      "cell_type": "markdown",
      "source": [
        "3. Common Classification Metrics:\n",
        "Here are some common classification metrics:\n",
        "\n",
        "> Accuracy:\n",
        "> Accuracy is the ratio of correctly predicted instances to the total instances in the dataset.\n",
        "\n",
        "> Precision:\n",
        "> Precision is the ratio of correctly predicted positive observations to the total predicted positives. It measures the accuracy of the positive predictions made by the model. Precision focuses on the predicted positive instances and indicates how many of them are actually relevant. A high precision value means that the model has fewer false positives.\n",
        "\n",
        "> Recall:\n",
        "> Recall is the ratio of correctly predicted positive observations to the all observations in actual class. It measures the ability of the model to capture all the relevant instances of the positive class. Recall is sensitive to false negatives, so a high recall value indicates that the model is good at identifying positive instances, but it may have more false positives.\n",
        "\n",
        "> F1-Score:\n",
        "> The F1-Score is the harmonic mean of precision and recall and is especially useful when you want to balance precision and recall.\n"
      ],
      "metadata": {
        "id": "XL3qFgDRWMAz"
      }
    },
    {
      "cell_type": "code",
      "source": [
        "print(classification_report(y_test, y_pred,\n",
        "                            target_names=tick_labels,\n",
        "                           zero_division=0))\n",
        "# Provides the accuracy, macro average provides the average across classes\n",
        "# Weighted average is average of the weights"
      ],
      "metadata": {
        "colab": {
          "base_uri": "https://localhost:8080/"
        },
        "id": "tRmQTxq_UcWh",
        "outputId": "0b2d59a8-2ca2-4767-d5bb-519729c3a369"
      },
      "execution_count": null,
      "outputs": [
        {
          "output_type": "stream",
          "name": "stdout",
          "text": [
            "              precision    recall  f1-score   support\n",
            "\n",
            "       <=50K       0.88      0.94      0.91       145\n",
            "        >50K       0.78      0.60      0.67        47\n",
            "\n",
            "    accuracy                           0.86       192\n",
            "   macro avg       0.83      0.77      0.79       192\n",
            "weighted avg       0.85      0.86      0.85       192\n",
            "\n"
          ]
        }
      ]
    },
    {
      "cell_type": "markdown",
      "source": [
        "## Part 3: Observations/Interpretation"
      ],
      "metadata": {
        "id": "WBSa5Qlz1Kal"
      }
    },
    {
      "cell_type": "markdown",
      "source": [
        "\n",
        "1. To find which model and parameters produced the best results, we utilized `GridSearchCV` like in previous assignments, which ran and cross-checked all three models and different parameter combinations on the dataset. As can be seen above the best model between `Logistic Regression`, `KNN Classifier` and `SVC` classification models is the `SVC` model. The parameter fed into the `GridSearchCV` for `SVC` were C which is the regularization parameter and inverstely proportional to it or proportional to model complexity. The other model parameter was the kernel type being used in the algorithm. The `SVC` model parameters that produced the best results were `C=1` and a `rbf kernel`. This means the model did not need more complexity as the default value of C (1) and default kernel (rbf) produced the best results.\n",
        "\n",
        "2. The model was a good fit as reflected in the cross-validation training/testing score and test-set score/accuracy. With a cross-validation training score of `89%`, a cross-validation testing score of `86%` and a test-set score or accuracy of `86%`, the model is evidently a good fit and clearly a well-fit model. Since the training score and validation score are close to each other and the training score is relatively close to the max score of 1, this model has low bias and low variance. Therefore, the model is a good fit for the provided data and therefore is not too simple or too complex. Please do note we only use 2% of the dataset as using the entire dataset was very computationally intensive and would take a long time (did not complete even after 4 hours of running).\n",
        "\n",
        "3. Under `2.5. Visualizations & Analysis`, we first visualize the grid search results. We can visually see that `SVC(C=1)` was the best performing model with the `LogisticRegression()` being a close second with a mean test score of 85.66% and 85.40% respectively. We also plot the confusion matrix where we see that we have 137 TN, 8 FP, 19 FN, 28 TP. This indicates that 137 people that actually made <=50K in income were predicted to make <=50K and 8 people that made <=50K in income were predicted to make >50K. It also indicates that 19 people that actually made >50K in income were predicted to make <=50K and 28 people that made >50K in income were predicted to make >50K. Finally, we log the classification report of this best-performing model. It shows how we have better precision, recall and f1-score when it comes to people with <=50K than >50K. This can be attributed to the fact that we only took a fraction of the dataset due to it being too computationally intensive to use the whole dataset and the fraction having more people with <=50K income. Nonetheless, the model is a good fit for the dataset and using the entire dataset would only make the model an even better fit."
      ],
      "metadata": {
        "id": "oQH-J4YeYuSi"
      }
    },
    {
      "cell_type": "markdown",
      "source": [
        "### Process Description"
      ],
      "metadata": {
        "id": "v_2dAnAy1heC"
      }
    },
    {
      "cell_type": "markdown",
      "source": [
        "\n",
        "\n",
        "1.\n",
        "   We primarily sourced our code from the provided course content. This includes all the lecture slides, the labs and most prominently the code examples and assignments. We initially reviewed all the course content as part of our regular course review process. We then either remembered the code snippets from our review session or referred again to the code examples to figure out how to perform a certain task in the final project. In addition, we referred to our past assignments as there was a lot of similaritity in the code written. Finally, we also referred to the [dataset documentation](https://archive.ics.uci.edu/dataset/2/adult) to figure out how to import the data. We also referred to the [GridSearchCV documentation](https://scikit-learn.org/stable/modules/generated/sklearn.model_selection.GridSearchCV.html).\n",
        "\n",
        "2.\n",
        "   We completed the project in chronological order. Though we did have to come back to the Data Pre-Processing step multiple times to clean the data so that it can be properly trained and classified.\n",
        "\n",
        "3.\n",
        "   We did not use generative AI as we were able to find all the necessary code from class code examples, documentation and the course assignments.\n",
        "   \n",
        "4.\n",
        "   Given that this final project was very similar to the previous assignments, we had far fewer challenges or struggles in this final project. Our first and only challenge was when we were not sure how to properly process the data from the dataset. To tackle this challenge we simply referred to code examples to see how it was done in the provided code examples and our labs. In addition, I refered to the above documentation link to better understand what it is and how to use it. In addition, we would utilize the error messages from attempting to train the model to further process the data. Apart from these struggles, we did not have any other challenges, thanks to reviewing the course content before the assignment and having the course content readily available to refer to while working on this assignment."
      ],
      "metadata": {
        "id": "DMXRiZYEXG8S"
      }
    },
    {
      "cell_type": "markdown",
      "source": [
        "# Contributors\n",
        "\n",
        "1. Mohammad Mahtab Khan\n",
        "2. Redwanul Islam"
      ],
      "metadata": {
        "id": "sL3r94vISB18"
      }
    }
  ]
}